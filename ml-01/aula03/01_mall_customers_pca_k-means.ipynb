{
 "cells": [
  {
   "cell_type": "markdown",
   "metadata": {},
   "source": [
    "### <span style=\"color:green;\">**Descrição da Base de Dados \"Mall Customers\"**</span>\n",
    "\n",
    "A base de dados \"Mall Customers\" contém informações demográficas e comportamentais de clientes de um shopping. Este conjunto de dados é amplamente utilizado para análises de segmentação de clientes e inclui as seguintes colunas:\n",
    "\n",
    "- **CustomerID**: Identificação única do cliente.\n",
    "- **Gender**: Gênero do cliente (Masculino/Feminino).\n",
    "- **Age**: Idade do cliente.\n",
    "- **Annual Income (k$)**: Renda anual do cliente em milhares de dólares.\n",
    "- **Spending Score (1-100)**: Pontuação de gastos do cliente atribuída pelo shopping, com base em comportamento e hábitos de compra."
   ]
  },
  {
   "cell_type": "markdown",
   "metadata": {},
   "source": [
    "#### Descrição do Trabalho\n",
    "\n",
    "Neste projeto, usaremos a base de dados \"Mall Customers\" para explorar técnicas de redução de dimensionalidade e clustering. Aqui estão os passos que seguiremos:\n",
    "\n",
    "1. **Preparação dos Dados**:\n",
    "   - Carregar e visualizar a base de dados.\n",
    "   - Limpar e padronizar os dados para garantir consistência e qualidade.\n",
    "\n",
    "2. **Redução de Dimensionalidade com PCA**:\n",
    "   - Aplicar Análise de Componentes Principais (PCA) para reduzir a dimensionalidade dos dados, facilitando a visualização e análise.\n",
    "\n",
    "3. **Clustering com K-Means**:\n",
    "   - Utilizar o algoritmo K-Means para agrupar os clientes em clusters com base em suas características demográficas e comportamentais.\n",
    "   - Determinar o número ideal de clusters usando o método do cotovelo (Elbow Method).\n",
    "\n",
    "4. **Visualização e Interpretação dos Resultados**:\n",
    "   - Visualizar os clusters formados após a aplicação do K-Means e do PCA.\n",
    "   - Interpretar os resultados e identificar padrões e insights sobre os diferentes segmentos de clientes.\n",
    "\n",
    "5. **Aplicações Práticas**:\n",
    "   - Explorar possíveis aplicações práticas dos resultados de clustering, como campanhas de marketing direcionadas e melhoria da experiência do cliente.\n",
    "\n",
    "Este projeto permitirá que você aplique técnicas importantes de aprendizado de máquina, como PCA e K-Means, enquanto explora um conjunto de dados real e relevante. Vamos começar a jornada de análise e segmentação de clientes!\n",
    "\n",
    "\n",
    "Link para a base de dados no Kaggle: https://www.kaggle.com/datasets/vjchoudhary7/customer-segmentation-tutorial-in-python/data"
   ]
  },
  {
   "cell_type": "markdown",
   "metadata": {},
   "source": [
    "### **<span style=\"color:green\">IMPORTS E CONFIGURAÇÕES</span>**"
   ]
  },
  {
   "cell_type": "code",
   "execution_count": 1,
   "metadata": {},
   "outputs": [],
   "source": [
    "import pandas as pd\n",
    "from sklearn.decomposition import PCA\n",
    "from sklearn.cluster import KMeans\n",
    "import matplotlib.pyplot as plt\n",
    "import seaborn as sns\n",
    "\n",
    "from sklearn.model_selection import train_test_split"
   ]
  },
  {
   "cell_type": "markdown",
   "metadata": {},
   "source": [
    "### **<span style=\"color:green\">FUNÇÕES DE PROCESSAMENTO DE DADOS</span>**"
   ]
  },
  {
   "cell_type": "code",
   "execution_count": 2,
   "metadata": {},
   "outputs": [],
   "source": [
    "CAMINHO_BASE_MALL_CUSTOMERS = \"https://raw.githubusercontent.com/claytonsilva007/IDP/refs/heads/main/ml-01/dados/mall_customer/mall_customers.csv\""
   ]
  },
  {
   "cell_type": "code",
   "execution_count": 3,
   "metadata": {},
   "outputs": [],
   "source": [
    "def carregar_dados(path: str):\n",
    "  dados = pd.read_csv(path)\n",
    "  return dados"
   ]
  },
  {
   "cell_type": "code",
   "execution_count": 4,
   "metadata": {},
   "outputs": [],
   "source": [
    "def obter_treino_e_teste(df: pd.DataFrame, perc_treino: float = 0.8):\n",
    "    treino, teste = train_test_split(df, train_size=perc_treino ,random_state=42)\n",
    "    return treino, teste  "
   ]
  },
  {
   "cell_type": "code",
   "execution_count": 5,
   "metadata": {},
   "outputs": [],
   "source": [
    "def transformar_sex_em_inteiro(df: pd.DataFrame):\n",
    "    df.Gender = df.Gender.map({'Male': 0, 'Female': 1})\n",
    "    return df"
   ]
  },
  {
   "cell_type": "markdown",
   "metadata": {},
   "source": [
    "### **<span style=\"color:green\">OBTENHA E TRANSFORME OS DADOS</span>**"
   ]
  },
  {
   "cell_type": "markdown",
   "metadata": {},
   "source": [
    "Carregar os dados dos clientes do shopping e transforme a coluna Gender de texto para número."
   ]
  },
  {
   "cell_type": "code",
   "execution_count": 6,
   "metadata": {},
   "outputs": [
    {
     "data": {
      "text/html": [
       "<div>\n",
       "<style scoped>\n",
       "    .dataframe tbody tr th:only-of-type {\n",
       "        vertical-align: middle;\n",
       "    }\n",
       "\n",
       "    .dataframe tbody tr th {\n",
       "        vertical-align: top;\n",
       "    }\n",
       "\n",
       "    .dataframe thead th {\n",
       "        text-align: right;\n",
       "    }\n",
       "</style>\n",
       "<table border=\"1\" class=\"dataframe\">\n",
       "  <thead>\n",
       "    <tr style=\"text-align: right;\">\n",
       "      <th></th>\n",
       "      <th>CustomerID</th>\n",
       "      <th>Gender</th>\n",
       "      <th>Age</th>\n",
       "      <th>AnnualIncome</th>\n",
       "      <th>SpendingScore</th>\n",
       "    </tr>\n",
       "  </thead>\n",
       "  <tbody>\n",
       "    <tr>\n",
       "      <th>0</th>\n",
       "      <td>1</td>\n",
       "      <td>0</td>\n",
       "      <td>19</td>\n",
       "      <td>15</td>\n",
       "      <td>39</td>\n",
       "    </tr>\n",
       "    <tr>\n",
       "      <th>1</th>\n",
       "      <td>2</td>\n",
       "      <td>0</td>\n",
       "      <td>21</td>\n",
       "      <td>15</td>\n",
       "      <td>81</td>\n",
       "    </tr>\n",
       "    <tr>\n",
       "      <th>2</th>\n",
       "      <td>3</td>\n",
       "      <td>1</td>\n",
       "      <td>20</td>\n",
       "      <td>16</td>\n",
       "      <td>6</td>\n",
       "    </tr>\n",
       "    <tr>\n",
       "      <th>3</th>\n",
       "      <td>4</td>\n",
       "      <td>1</td>\n",
       "      <td>23</td>\n",
       "      <td>16</td>\n",
       "      <td>77</td>\n",
       "    </tr>\n",
       "    <tr>\n",
       "      <th>4</th>\n",
       "      <td>5</td>\n",
       "      <td>1</td>\n",
       "      <td>31</td>\n",
       "      <td>17</td>\n",
       "      <td>40</td>\n",
       "    </tr>\n",
       "  </tbody>\n",
       "</table>\n",
       "</div>"
      ],
      "text/plain": [
       "   CustomerID  Gender  Age  AnnualIncome  SpendingScore\n",
       "0           1       0   19            15             39\n",
       "1           2       0   21            15             81\n",
       "2           3       1   20            16              6\n",
       "3           4       1   23            16             77\n",
       "4           5       1   31            17             40"
      ]
     },
     "execution_count": 6,
     "metadata": {},
     "output_type": "execute_result"
    }
   ],
   "source": [
    "df = carregar_dados(path=CAMINHO_BASE_MALL_CUSTOMERS)\n",
    "df = transformar_sex_em_inteiro(df=df)\n",
    "df.head()"
   ]
  },
  {
   "cell_type": "markdown",
   "metadata": {},
   "source": [
    "Sempre verifique se existem dados nulos e os tipos dos dados das colunas do dataframe com a função `info()`"
   ]
  },
  {
   "cell_type": "code",
   "execution_count": 7,
   "metadata": {},
   "outputs": [
    {
     "name": "stdout",
     "output_type": "stream",
     "text": [
      "<class 'pandas.core.frame.DataFrame'>\n",
      "RangeIndex: 200 entries, 0 to 199\n",
      "Data columns (total 5 columns):\n",
      " #   Column         Non-Null Count  Dtype\n",
      "---  ------         --------------  -----\n",
      " 0   CustomerID     200 non-null    int64\n",
      " 1   Gender         200 non-null    int64\n",
      " 2   Age            200 non-null    int64\n",
      " 3   AnnualIncome   200 non-null    int64\n",
      " 4   SpendingScore  200 non-null    int64\n",
      "dtypes: int64(5)\n",
      "memory usage: 7.9 KB\n"
     ]
    }
   ],
   "source": [
    "df.info()"
   ]
  },
  {
   "cell_type": "markdown",
   "metadata": {},
   "source": [
    "Utilize o comando `describe()` para visualizar estatísticas básicas do dataframe. Para o nosso problema atual, a escala dos números tem grande importância."
   ]
  },
  {
   "cell_type": "code",
   "execution_count": 8,
   "metadata": {},
   "outputs": [
    {
     "data": {
      "text/html": [
       "<div>\n",
       "<style scoped>\n",
       "    .dataframe tbody tr th:only-of-type {\n",
       "        vertical-align: middle;\n",
       "    }\n",
       "\n",
       "    .dataframe tbody tr th {\n",
       "        vertical-align: top;\n",
       "    }\n",
       "\n",
       "    .dataframe thead th {\n",
       "        text-align: right;\n",
       "    }\n",
       "</style>\n",
       "<table border=\"1\" class=\"dataframe\">\n",
       "  <thead>\n",
       "    <tr style=\"text-align: right;\">\n",
       "      <th></th>\n",
       "      <th>CustomerID</th>\n",
       "      <th>Gender</th>\n",
       "      <th>Age</th>\n",
       "      <th>AnnualIncome</th>\n",
       "      <th>SpendingScore</th>\n",
       "    </tr>\n",
       "  </thead>\n",
       "  <tbody>\n",
       "    <tr>\n",
       "      <th>count</th>\n",
       "      <td>200.000000</td>\n",
       "      <td>200.000000</td>\n",
       "      <td>200.000000</td>\n",
       "      <td>200.000000</td>\n",
       "      <td>200.000000</td>\n",
       "    </tr>\n",
       "    <tr>\n",
       "      <th>mean</th>\n",
       "      <td>100.500000</td>\n",
       "      <td>0.560000</td>\n",
       "      <td>38.850000</td>\n",
       "      <td>60.560000</td>\n",
       "      <td>50.200000</td>\n",
       "    </tr>\n",
       "    <tr>\n",
       "      <th>std</th>\n",
       "      <td>57.879185</td>\n",
       "      <td>0.497633</td>\n",
       "      <td>13.969007</td>\n",
       "      <td>26.264721</td>\n",
       "      <td>25.823522</td>\n",
       "    </tr>\n",
       "    <tr>\n",
       "      <th>min</th>\n",
       "      <td>1.000000</td>\n",
       "      <td>0.000000</td>\n",
       "      <td>18.000000</td>\n",
       "      <td>15.000000</td>\n",
       "      <td>1.000000</td>\n",
       "    </tr>\n",
       "    <tr>\n",
       "      <th>25%</th>\n",
       "      <td>50.750000</td>\n",
       "      <td>0.000000</td>\n",
       "      <td>28.750000</td>\n",
       "      <td>41.500000</td>\n",
       "      <td>34.750000</td>\n",
       "    </tr>\n",
       "    <tr>\n",
       "      <th>50%</th>\n",
       "      <td>100.500000</td>\n",
       "      <td>1.000000</td>\n",
       "      <td>36.000000</td>\n",
       "      <td>61.500000</td>\n",
       "      <td>50.000000</td>\n",
       "    </tr>\n",
       "    <tr>\n",
       "      <th>75%</th>\n",
       "      <td>150.250000</td>\n",
       "      <td>1.000000</td>\n",
       "      <td>49.000000</td>\n",
       "      <td>78.000000</td>\n",
       "      <td>73.000000</td>\n",
       "    </tr>\n",
       "    <tr>\n",
       "      <th>max</th>\n",
       "      <td>200.000000</td>\n",
       "      <td>1.000000</td>\n",
       "      <td>70.000000</td>\n",
       "      <td>137.000000</td>\n",
       "      <td>99.000000</td>\n",
       "    </tr>\n",
       "  </tbody>\n",
       "</table>\n",
       "</div>"
      ],
      "text/plain": [
       "       CustomerID      Gender         Age  AnnualIncome  SpendingScore\n",
       "count  200.000000  200.000000  200.000000    200.000000     200.000000\n",
       "mean   100.500000    0.560000   38.850000     60.560000      50.200000\n",
       "std     57.879185    0.497633   13.969007     26.264721      25.823522\n",
       "min      1.000000    0.000000   18.000000     15.000000       1.000000\n",
       "25%     50.750000    0.000000   28.750000     41.500000      34.750000\n",
       "50%    100.500000    1.000000   36.000000     61.500000      50.000000\n",
       "75%    150.250000    1.000000   49.000000     78.000000      73.000000\n",
       "max    200.000000    1.000000   70.000000    137.000000      99.000000"
      ]
     },
     "execution_count": 8,
     "metadata": {},
     "output_type": "execute_result"
    }
   ],
   "source": [
    "df.describe()"
   ]
  },
  {
   "cell_type": "markdown",
   "metadata": {},
   "source": [
    "### **<span style=\"color:green\">PADRONIZE OS DADOS</span>**"
   ]
  },
  {
   "cell_type": "markdown",
   "metadata": {},
   "source": [
    "Crie um array chamado **features** contendo todas as características mais importantes. Por ora, **remova a coluna CustomerID**."
   ]
  },
  {
   "cell_type": "code",
   "execution_count": 9,
   "metadata": {},
   "outputs": [],
   "source": [
    "features = df[['Age', 'AnnualIncome', 'SpendingScore']]"
   ]
  },
  {
   "cell_type": "markdown",
   "metadata": {},
   "source": [
    "Utilize a classe `StandardScaler()` para transformar os valores das variáveis em uma escala padrão. "
   ]
  },
  {
   "cell_type": "code",
   "execution_count": 10,
   "metadata": {},
   "outputs": [],
   "source": [
    "from sklearn.preprocessing import StandardScaler\n",
    "\n",
    "scaler = StandardScaler()\n",
    "scaled_features = scaler.fit_transform(features)"
   ]
  },
  {
   "cell_type": "markdown",
   "metadata": {},
   "source": [
    "---\n",
    "Três motivos para padronizar dados, especialmente quando estivermos trabalhando com PCA e Clusters.\n",
    "\n",
    "**Eliminação de Unidades e Escalas Diferentes**: Dados não padronizados podem ter diferentes unidades e escalas, o que pode influenciar desproporcionalmente a análise. Por exemplo, imagine que você tem dados sobre altura (em metros) e peso (em quilos). Sem padronização, o PCA pode ser mais influenciado pelos pesos simplesmente porque os valores são numericamente maiores que as alturas.\n",
    "\n",
    "**Comparabilidade dos Componentes**: A padronização permite que cada variável contribua igualmente para a análise. Isto é especialmente importante em PCA, onde estamos interessados em entender a variação relativa entre as variáveis.\n",
    "\n",
    "**Convergência e Eficiência Computacional**: Em muitos casos, padronizar os dados pode levar a uma convergência mais rápida e eficiente dos algoritmos de PCA."
   ]
  },
  {
   "cell_type": "markdown",
   "metadata": {},
   "source": [
    "---"
   ]
  },
  {
   "cell_type": "markdown",
   "metadata": {},
   "source": [
    "### **<span style=\"color:green\">REDUÇÃO DE DIMENSIONALIDADE</span>**"
   ]
  },
  {
   "cell_type": "markdown",
   "metadata": {},
   "source": [
    "Reduza a dimensionalidade do dataframe para 2 componentes principais."
   ]
  },
  {
   "cell_type": "code",
   "execution_count": 11,
   "metadata": {},
   "outputs": [],
   "source": [
    "# Reduzir a dimensionalidade para 2 componentes principais\n",
    "pca = PCA(n_components=2)\n",
    "principal_components = pca.fit_transform(scaled_features)"
   ]
  },
  {
   "cell_type": "markdown",
   "metadata": {},
   "source": [
    "---\n",
    "O que acontece quando executamos `pca.fit_transform()`?\n",
    "\n",
    "**Componentes Principais** (n_componentes=2): Eles são **combinações lineares** das variáveis originais que capturam a maior parte da variação nos dados. Em nosso caso, reduzimos a dimensionalidade para 2 componentes principais, ou seja, estamos tentando representar os dados originais em um espaço bidimensional.\n",
    "\n",
    "**Variação Explicada**: Cada componente principal explica uma certa quantidade da variância nos dados originais.  pode acessar isso com o atributo `explained_variance_ratio_` do objeto pca para entender a proporção da variância total capturada por cada componente principal.\n"
   ]
  },
  {
   "cell_type": "markdown",
   "metadata": {},
   "source": [
    "---"
   ]
  },
  {
   "cell_type": "markdown",
   "metadata": {},
   "source": [
    "Visualize a variância explicada utilizando o atributo `explained_variance_ratio_`. \n",
    "\n",
    "Na prática, o que desejamos ver é o percentual das informações originais representados em apenas 2 componentes."
   ]
  },
  {
   "cell_type": "code",
   "execution_count": 12,
   "metadata": {},
   "outputs": [
    {
     "data": {
      "text/plain": [
       "array([0.44266167, 0.33308378])"
      ]
     },
     "execution_count": 12,
     "metadata": {},
     "output_type": "execute_result"
    }
   ],
   "source": [
    "pca.explained_variance_ratio_"
   ]
  },
  {
   "cell_type": "markdown",
   "metadata": {},
   "source": [
    "Visualize o conteúdo da variável principal_components. Utilize o slice do Python para visualizar apenas os 5 primeiros registros.\n",
    "\n",
    "Esses valores representam a contribuição das variáveis originais para cada novo componente principal. O PCA reorienta o espaço dos dados de forma que as novas direções (componentes principais) maximizem a variação dos dados."
   ]
  },
  {
   "cell_type": "code",
   "execution_count": 13,
   "metadata": {},
   "outputs": [
    {
     "data": {
      "text/plain": [
       "array([[-0.61572002, -1.76348088],\n",
       "       [-1.66579271, -1.82074695],\n",
       "       [ 0.33786191, -1.67479894],\n",
       "       [-1.45657325, -1.77242992],\n",
       "       [-0.03846521, -1.66274012]])"
      ]
     },
     "execution_count": 13,
     "metadata": {},
     "output_type": "execute_result"
    }
   ],
   "source": [
    "principal_components[:5]"
   ]
  },
  {
   "cell_type": "markdown",
   "metadata": {},
   "source": [
    "Criar um DataFrame chamado **df_pca** com os componentes principais que acabamos de calcular. \n",
    "\n",
    "O Pandas e Sklearn mantém pareada a estrutura de índices ao longo de suas operações, o que facilita a atribuição/junção entre o dataframe original (df) e o dataframe de componentes principais (df_pca) de forma simplificada."
   ]
  },
  {
   "cell_type": "code",
   "execution_count": 14,
   "metadata": {},
   "outputs": [],
   "source": [
    "df_pca = pd.DataFrame(data=principal_components, columns=['PC1', 'PC2'])\n",
    "df_pca['CustomerID'] = df['CustomerID']"
   ]
  },
  {
   "cell_type": "code",
   "execution_count": 15,
   "metadata": {},
   "outputs": [
    {
     "data": {
      "text/html": [
       "<div>\n",
       "<style scoped>\n",
       "    .dataframe tbody tr th:only-of-type {\n",
       "        vertical-align: middle;\n",
       "    }\n",
       "\n",
       "    .dataframe tbody tr th {\n",
       "        vertical-align: top;\n",
       "    }\n",
       "\n",
       "    .dataframe thead th {\n",
       "        text-align: right;\n",
       "    }\n",
       "</style>\n",
       "<table border=\"1\" class=\"dataframe\">\n",
       "  <thead>\n",
       "    <tr style=\"text-align: right;\">\n",
       "      <th></th>\n",
       "      <th>PC1</th>\n",
       "      <th>PC2</th>\n",
       "      <th>CustomerID</th>\n",
       "    </tr>\n",
       "  </thead>\n",
       "  <tbody>\n",
       "    <tr>\n",
       "      <th>0</th>\n",
       "      <td>-0.615720</td>\n",
       "      <td>-1.763481</td>\n",
       "      <td>1</td>\n",
       "    </tr>\n",
       "    <tr>\n",
       "      <th>1</th>\n",
       "      <td>-1.665793</td>\n",
       "      <td>-1.820747</td>\n",
       "      <td>2</td>\n",
       "    </tr>\n",
       "    <tr>\n",
       "      <th>2</th>\n",
       "      <td>0.337862</td>\n",
       "      <td>-1.674799</td>\n",
       "      <td>3</td>\n",
       "    </tr>\n",
       "    <tr>\n",
       "      <th>3</th>\n",
       "      <td>-1.456573</td>\n",
       "      <td>-1.772430</td>\n",
       "      <td>4</td>\n",
       "    </tr>\n",
       "    <tr>\n",
       "      <th>4</th>\n",
       "      <td>-0.038465</td>\n",
       "      <td>-1.662740</td>\n",
       "      <td>5</td>\n",
       "    </tr>\n",
       "    <tr>\n",
       "      <th>...</th>\n",
       "      <td>...</td>\n",
       "      <td>...</td>\n",
       "      <td>...</td>\n",
       "    </tr>\n",
       "    <tr>\n",
       "      <th>195</th>\n",
       "      <td>-1.093705</td>\n",
       "      <td>2.215577</td>\n",
       "      <td>196</td>\n",
       "    </tr>\n",
       "    <tr>\n",
       "      <th>196</th>\n",
       "      <td>0.800448</td>\n",
       "      <td>2.540748</td>\n",
       "      <td>197</td>\n",
       "    </tr>\n",
       "    <tr>\n",
       "      <th>197</th>\n",
       "      <td>-1.119709</td>\n",
       "      <td>2.445169</td>\n",
       "      <td>198</td>\n",
       "    </tr>\n",
       "    <tr>\n",
       "      <th>198</th>\n",
       "      <td>0.395411</td>\n",
       "      <td>2.946665</td>\n",
       "      <td>199</td>\n",
       "    </tr>\n",
       "    <tr>\n",
       "      <th>199</th>\n",
       "      <td>-1.488004</td>\n",
       "      <td>2.847018</td>\n",
       "      <td>200</td>\n",
       "    </tr>\n",
       "  </tbody>\n",
       "</table>\n",
       "<p>200 rows × 3 columns</p>\n",
       "</div>"
      ],
      "text/plain": [
       "          PC1       PC2  CustomerID\n",
       "0   -0.615720 -1.763481           1\n",
       "1   -1.665793 -1.820747           2\n",
       "2    0.337862 -1.674799           3\n",
       "3   -1.456573 -1.772430           4\n",
       "4   -0.038465 -1.662740           5\n",
       "..        ...       ...         ...\n",
       "195 -1.093705  2.215577         196\n",
       "196  0.800448  2.540748         197\n",
       "197 -1.119709  2.445169         198\n",
       "198  0.395411  2.946665         199\n",
       "199 -1.488004  2.847018         200\n",
       "\n",
       "[200 rows x 3 columns]"
      ]
     },
     "execution_count": 15,
     "metadata": {},
     "output_type": "execute_result"
    }
   ],
   "source": [
    "df_pca"
   ]
  },
  {
   "cell_type": "markdown",
   "metadata": {},
   "source": [
    "Utilize a função `plot()` do pandas para gerar um gráfico de dispersão (scatter) dos componentes PC1 e PC2."
   ]
  },
  {
   "cell_type": "code",
   "execution_count": 16,
   "metadata": {},
   "outputs": [
    {
     "data": {
      "text/plain": [
       "<Axes: xlabel='PC1', ylabel='PC2'>"
      ]
     },
     "execution_count": 16,
     "metadata": {},
     "output_type": "execute_result"
    },
    {
     "data": {
      "image/png": "[encoded data removed]",
      "text/plain": [
       "<Figure size 640x480 with 1 Axes>"
      ]
     },
     "metadata": {},
     "output_type": "display_data"
    }
   ],
   "source": [
    "df_pca.plot(kind='scatter', x='PC1', y='PC2')"
   ]
  },
  {
   "cell_type": "markdown",
   "metadata": {},
   "source": [
    "---\n",
    "<span style='color: green;'>**Por que eu devo utilizar o PCA?**</span>\n",
    "\n",
    "**Redução de Dimensionalidade**\n",
    "\n",
    "- Sozinho: Facilitar a visualização e a interpretação dos dados. Isso é útil quando você tem um grande número de variáveis e quer entender as principais tendências e padrões.\n",
    "\n",
    "- Com Outros Algoritmos: A redução de dimensionalidade pode melhorar a eficiência e a performance de outros algoritmos de machine learning. Algoritmos de clustering (como K-Means) ou classificadores (como SVM) podem se beneficiar de dados com menos dimensões, tornando o treinamento mais rápido e potencialmente mais preciso.\n",
    "\n",
    "**Remoção de Ruído**:\n",
    "\n",
    "- Sozinho: O PCA pode ajudar a eliminar variáveis redundantes e ruído nos dados, concentrando-se nas principais fontes de variabilidade. \n",
    "\n",
    "- Com Outros Algoritmos: Ao remover ruído e redundância, o PCA pode melhorar a qualidade dos dados usados em outros modelos de machine learning. \n",
    "\n",
    "**Visualização de Dados**:\n",
    "\n",
    "- Sozinho: O PCA é frequentemente usado para criar visualizações em 2D ou 3D de conjuntos de dados de alta dimensão. Essas visualizações podem revelar padrões, agrupamentos e outliers que não são visíveis em espaços de alta dimensão.\n",
    "\n",
    "- Com Outros Algoritmos: Visualizar os dados em um espaço de menor dimensão pode ajudar a entender e explicar os resultados de outros algoritmos de machine learning."
   ]
  },
  {
   "cell_type": "markdown",
   "metadata": {},
   "source": [
    "---"
   ]
  },
  {
   "cell_type": "markdown",
   "metadata": {},
   "source": [
    "### **<span style=\"color:green\">K-MEANS E PCA</span>**"
   ]
  },
  {
   "cell_type": "markdown",
   "metadata": {},
   "source": [
    "#### 1. Selecione a quantidade de clusters utilizando o Método do Cotovelo (Elbow Method)"
   ]
  },
  {
   "cell_type": "markdown",
   "metadata": {},
   "source": [
    "**Objetivo do Elbow Plot** \n",
    "\n",
    "O objetivo do Elbow Plot é ajudar a determinar o número ideal de clusters para usar no algoritmo K-Means. Ele faz isso mostrando como a inércia muda à medida que você aumenta o número de clusters.\n",
    "\n",
    "**Inércia e Clusters**:\n",
    "\n",
    "- Inércia: É a soma das distâncias quadradas entre cada ponto de dados e o centroide do seu respectivo cluster. Em termos simples, é uma medida de quão bem os pontos de dados estão agrupados.\n",
    "\n",
    "- Número de Clusters: À medida que você aumenta o número de clusters, a inércia tende a diminuir porque os pontos de dados estão mais próximos dos centroides dos clusters."
   ]
  },
  {
   "cell_type": "markdown",
   "metadata": {},
   "source": [
    "Inicie o processo criando duas variáveis, **num_clusters** e **inertia_list**, onde k será a quantidade de clustes testados e inertia_list a variável responsável por armazenar a inertia dos clusters."
   ]
  },
  {
   "cell_type": "code",
   "execution_count": 17,
   "metadata": {},
   "outputs": [],
   "source": [
    "inertia_list = []\n",
    "num_clusters = range(1, 10)"
   ]
  },
  {
   "cell_type": "markdown",
   "metadata": {},
   "source": [
    "Agora, faça o seguinte:\n",
    "- Itere a variável `num_clusters`.\n",
    "- Para cada iteração, Instancie um Objeto KMeans preencendo o atributo `n_clusters=k`, onde k é a quantidade de clusters da iteração.\n",
    "- Utilize o método fit para treinar o modelo. Para o KMeans, só preisamos passar o \"X\" (`principal_components`).\n",
    "- adicione a inertia à variável `inertia_list`.  "
   ]
  },
  {
   "cell_type": "code",
   "execution_count": 18,
   "metadata": {},
   "outputs": [],
   "source": [
    "for k in num_clusters:\n",
    "    kmeans = KMeans(n_clusters=k, random_state=42)\n",
    "    kmeans.fit(principal_components)\n",
    "    inertia_list.append(kmeans.inertia_)"
   ]
  },
  {
   "cell_type": "code",
   "execution_count": 19,
   "metadata": {},
   "outputs": [
    {
     "data": {
      "image/png": "[encoded data removed]",
      "text/plain": [
       "<Figure size 1000x600 with 1 Axes>"
      ]
     },
     "metadata": {},
     "output_type": "display_data"
    }
   ],
   "source": [
    "# Plotar o gráfico do Cotovelo\n",
    "plt.figure(figsize=(10, 6))\n",
    "plt.plot(num_clusters, inertia_list, 'bo-')\n",
    "plt.xlabel('Número de Clusters')\n",
    "plt.ylabel('Inertia')\n",
    "plt.title('Método do Cotovelo para determinar o número ideal de clusters')\n",
    "plt.show()\n"
   ]
  },
  {
   "cell_type": "markdown",
   "metadata": {},
   "source": [
    "#### 2. Aplicar K-Means com o número ideal de clusters"
   ]
  },
  {
   "cell_type": "markdown",
   "metadata": {},
   "source": [
    "Instancie um objeto chamado kmeans"
   ]
  },
  {
   "cell_type": "code",
   "execution_count": 20,
   "metadata": {},
   "outputs": [],
   "source": [
    "kmeans = KMeans(n_clusters=3, random_state=42)"
   ]
  },
  {
   "cell_type": "markdown",
   "metadata": {},
   "source": [
    "Utilize o método **`fit_predict`** criar os clusters. Lembre-se de utilizar o DataFrame `principal_components`."
   ]
  },
  {
   "cell_type": "code",
   "execution_count": 21,
   "metadata": {},
   "outputs": [],
   "source": [
    "clusters = kmeans.fit_predict(principal_components)"
   ]
  },
  {
   "cell_type": "markdown",
   "metadata": {},
   "source": [
    "Adicionar os clusters ao DataFrame utilizando `df_pca['Cluster']`."
   ]
  },
  {
   "cell_type": "code",
   "execution_count": 22,
   "metadata": {},
   "outputs": [],
   "source": [
    "df_pca['Cluster'] = clusters"
   ]
  },
  {
   "cell_type": "code",
   "execution_count": 23,
   "metadata": {},
   "outputs": [
    {
     "data": {
      "image/png": "[encoded data removed]",
      "text/plain": [
       "<Figure size 1000x600 with 1 Axes>"
      ]
     },
     "metadata": {},
     "output_type": "display_data"
    }
   ],
   "source": [
    "# Plotar os clusters\n",
    "plt.figure(figsize=(10, 6))\n",
    "sns.scatterplot(x='PC1', y='PC2', hue='Cluster', data=df_pca, palette='viridis')\n",
    "plt.title('Clusters de K-Means após PCA')\n",
    "plt.xlabel('Componente Principal 1')\n",
    "plt.ylabel('Componente Principal 2')\n",
    "plt.show()\n"
   ]
  },
  {
   "cell_type": "markdown",
   "metadata": {},
   "source": [
    "#### 3. Adicionar as características originais ao DataFrame de PCA"
   ]
  },
  {
   "cell_type": "code",
   "execution_count": 24,
   "metadata": {},
   "outputs": [],
   "source": [
    "df_pca['Age'] = df['Age']\n",
    "df_pca['AnnualIncome'] = df['AnnualIncome']\n",
    "df_pca['SpendingScore'] = df['SpendingScore']"
   ]
  },
  {
   "cell_type": "markdown",
   "metadata": {},
   "source": [
    "#### 4. Calcular estatísticas descritivas para cada cluster"
   ]
  },
  {
   "cell_type": "code",
   "execution_count": 25,
   "metadata": {},
   "outputs": [
    {
     "data": {
      "text/html": [
       "<div>\n",
       "<style scoped>\n",
       "    .dataframe tbody tr th:only-of-type {\n",
       "        vertical-align: middle;\n",
       "    }\n",
       "\n",
       "    .dataframe tbody tr th {\n",
       "        vertical-align: top;\n",
       "    }\n",
       "\n",
       "    .dataframe thead tr th {\n",
       "        text-align: left;\n",
       "    }\n",
       "\n",
       "    .dataframe thead tr:last-of-type th {\n",
       "        text-align: right;\n",
       "    }\n",
       "</style>\n",
       "<table border=\"1\" class=\"dataframe\">\n",
       "  <thead>\n",
       "    <tr>\n",
       "      <th></th>\n",
       "      <th colspan=\"3\" halign=\"left\">Age</th>\n",
       "      <th colspan=\"3\" halign=\"left\">AnnualIncome</th>\n",
       "      <th colspan=\"3\" halign=\"left\">SpendingScore</th>\n",
       "    </tr>\n",
       "    <tr>\n",
       "      <th></th>\n",
       "      <th>min</th>\n",
       "      <th>max</th>\n",
       "      <th>mean</th>\n",
       "      <th>min</th>\n",
       "      <th>max</th>\n",
       "      <th>mean</th>\n",
       "      <th>min</th>\n",
       "      <th>max</th>\n",
       "      <th>mean</th>\n",
       "    </tr>\n",
       "    <tr>\n",
       "      <th>Cluster</th>\n",
       "      <th></th>\n",
       "      <th></th>\n",
       "      <th></th>\n",
       "      <th></th>\n",
       "      <th></th>\n",
       "      <th></th>\n",
       "      <th></th>\n",
       "      <th></th>\n",
       "      <th></th>\n",
       "    </tr>\n",
       "  </thead>\n",
       "  <tbody>\n",
       "    <tr>\n",
       "      <th>0</th>\n",
       "      <td>19</td>\n",
       "      <td>70</td>\n",
       "      <td>49.178218</td>\n",
       "      <td>18</td>\n",
       "      <td>126</td>\n",
       "      <td>60.861386</td>\n",
       "      <td>1</td>\n",
       "      <td>60</td>\n",
       "      <td>32.851485</td>\n",
       "    </tr>\n",
       "    <tr>\n",
       "      <th>1</th>\n",
       "      <td>18</td>\n",
       "      <td>40</td>\n",
       "      <td>30.000000</td>\n",
       "      <td>57</td>\n",
       "      <td>137</td>\n",
       "      <td>80.413793</td>\n",
       "      <td>18</td>\n",
       "      <td>97</td>\n",
       "      <td>70.362069</td>\n",
       "    </tr>\n",
       "    <tr>\n",
       "      <th>2</th>\n",
       "      <td>18</td>\n",
       "      <td>35</td>\n",
       "      <td>25.926829</td>\n",
       "      <td>15</td>\n",
       "      <td>54</td>\n",
       "      <td>31.731707</td>\n",
       "      <td>6</td>\n",
       "      <td>99</td>\n",
       "      <td>64.414634</td>\n",
       "    </tr>\n",
       "  </tbody>\n",
       "</table>\n",
       "</div>"
      ],
      "text/plain": [
       "        Age                AnnualIncome                 SpendingScore      \\\n",
       "        min max       mean          min  max       mean           min max   \n",
       "Cluster                                                                     \n",
       "0        19  70  49.178218           18  126  60.861386             1  60   \n",
       "1        18  40  30.000000           57  137  80.413793            18  97   \n",
       "2        18  35  25.926829           15   54  31.731707             6  99   \n",
       "\n",
       "                    \n",
       "              mean  \n",
       "Cluster             \n",
       "0        32.851485  \n",
       "1        70.362069  \n",
       "2        64.414634  "
      ]
     },
     "execution_count": 25,
     "metadata": {},
     "output_type": "execute_result"
    }
   ],
   "source": [
    "cluster_stats = df_pca.groupby('Cluster').agg({\n",
    "    'Age': ['min', 'max', 'mean'],\n",
    "    'AnnualIncome': ['min', 'max', 'mean'],\n",
    "    'SpendingScore': ['min', 'max', 'mean']\n",
    "})\n",
    "\n",
    "cluster_stats"
   ]
  },
  {
   "cell_type": "markdown",
   "metadata": {},
   "source": [
    "Forma alternativa de visualizar os dados dos clusters"
   ]
  },
  {
   "cell_type": "code",
   "execution_count": 26,
   "metadata": {},
   "outputs": [
    {
     "name": "stdout",
     "output_type": "stream",
     "text": [
      "Cluster 0:\n",
      "Idade: 19 - 70\n",
      "Renda Anual: 18k$ - 126k$\n",
      "Pontuação de Gastos: 1 - 60\n",
      "Média de Idade: 49.18\n",
      "Média de Renda Anual: 60.86k$\n",
      "Média de Pontuação de Gastos: 32.85\n",
      "\n",
      "Cluster 1:\n",
      "Idade: 18 - 40\n",
      "Renda Anual: 57k$ - 137k$\n",
      "Pontuação de Gastos: 18 - 97\n",
      "Média de Idade: 30.00\n",
      "Média de Renda Anual: 80.41k$\n",
      "Média de Pontuação de Gastos: 70.36\n",
      "\n",
      "Cluster 2:\n",
      "Idade: 18 - 35\n",
      "Renda Anual: 15k$ - 54k$\n",
      "Pontuação de Gastos: 6 - 99\n",
      "Média de Idade: 25.93\n",
      "Média de Renda Anual: 31.73k$\n",
      "Média de Pontuação de Gastos: 64.41\n",
      "\n"
     ]
    }
   ],
   "source": [
    "# Visualizar as estatísticas descritivas\n",
    "for cluster in cluster_stats.index:\n",
    "    print(f\"Cluster {cluster}:\")\n",
    "    print(f\"Idade: {cluster_stats.loc[cluster, ('Age', 'min')]} - {cluster_stats.loc[cluster, ('Age', 'max')]}\")\n",
    "    print(f\"Renda Anual: {cluster_stats.loc[cluster, ('AnnualIncome', 'min')]}k$ - {cluster_stats.loc[cluster, ('AnnualIncome', 'max')]}k$\")\n",
    "    print(f\"Pontuação de Gastos: {cluster_stats.loc[cluster, ('SpendingScore', 'min')]} - {cluster_stats.loc[cluster, ('SpendingScore', 'max')]}\")\n",
    "    print(f\"Média de Idade: {cluster_stats.loc[cluster, ('Age', 'mean')]:.2f}\")\n",
    "    print(f\"Média de Renda Anual: {cluster_stats.loc[cluster, ('AnnualIncome', 'mean')]:.2f}k$\")\n",
    "    print(f\"Média de Pontuação de Gastos: {cluster_stats.loc[cluster, ('SpendingScore', 'mean')]:.2f}\")\n",
    "    print()\n"
   ]
  }
 ],
 "metadata": {
  "kernelspec": {
   "display_name": ".venv",
   "language": "python",
   "name": "python3"
  },
  "language_info": {
   "codemirror_mode": {
    "name": "ipython",
    "version": 3
   },
   "file_extension": ".py",
   "mimetype": "text/x-python",
   "name": "python",
   "nbconvert_exporter": "python",
   "pygments_lexer": "ipython3",
   "version": "3.13.1"
  }
 },
 "nbformat": 4,
 "nbformat_minor": 2
}
