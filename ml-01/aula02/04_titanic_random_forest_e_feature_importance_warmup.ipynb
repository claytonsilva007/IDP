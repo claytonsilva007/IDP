{
 "cells": [
  {
   "cell_type": "markdown",
   "metadata": {},
   "source": [
    "### **<span style=\"color:green\">VISÃO GERAL DA BASE DE DADOS: Titanic</span>**\n",
    "\n",
    "Esta base de dados contém informações sobre os passageiros do Titanic, o famoso navio que afundou em 1912. Ela é amplamente utilizada para análises de sobrevivência e para entender os fatores que influenciaram a sobrevivência dos passageiros. Aqui estão algumas das variáveis incluídas:\n",
    "\n",
    "- **PassengerId**: Identificador único de cada passageiro.\n",
    "- **Survived**: Indica se o passageiro sobreviveu (1) ou não (0).\n",
    "- **Pclass**: Classe do bilhete do passageiro (1ª, 2ª, 3ª).\n",
    "- **Name**: Nome do passageiro.\n",
    "- **Sex**: Sexo do passageiro.\n",
    "- **Age**: Idade do passageiro.\n",
    "- **SibSp**: Número de irmãos/cônjuges a bordo do Titanic.\n",
    "- **Parch**: Número de pais/filhos a bordo do Titanic.\n",
    "- **Ticket**: Número do bilhete.\n",
    "- **Fare**: Tarifa paga pelo bilhete.\n",
    "- **Cabin**: Número da cabine.\n",
    "- **Embarked**: Porto de embarque (C = Cherbourg; Q = Queenstown; S = Southampton).\n",
    "\n",
    "A meta é entender como diferentes características dos passageiros e suas condições de viagem podem influenciar a probabilidade de sobrevivência no naufrágio do Titanic. Essa base de dados pode ser usada para diversas análises, como identificar padrões de sobrevivência, visualizar tendências demográficas dos passageiros e realizar previsões sobre fatores que afetaram as chances de sobrevivência.\n",
    "\n",
    "Link para a competição do Kaggle: https://www.kaggle.com/competitions/titanic/overview\n",
    "\n",
    "---"
   ]
  },
  {
   "cell_type": "markdown",
   "metadata": {},
   "source": [
    "### **<span style=\"color:green\">IMPORTS E CONFIGURAÇÕES</span>**"
   ]
  },
  {
   "cell_type": "code",
   "execution_count": 1,
   "metadata": {},
   "outputs": [],
   "source": [
    "import pandas as pd\n",
    "import numpy as np\n",
    "import seaborn as sns\n",
    "from sklearn.model_selection import train_test_split\n",
    "from sklearn.metrics import precision_recall_curve, roc_curve, accuracy_score, precision_score, recall_score, auc\n",
    "import matplotlib.pyplot as plt\n",
    "\n",
    "#!pip install ipywidgets"
   ]
  },
  {
   "cell_type": "markdown",
   "metadata": {},
   "source": [
    "### **<span style=\"color:green\">FUNÇÕES DE PROCESSAMENTO DE DADOS</span>**"
   ]
  },
  {
   "cell_type": "code",
   "execution_count": null,
   "metadata": {},
   "outputs": [],
   "source": [
    "CAMINHO_BASE_TREINAMENTO = 'https://raw.githubusercontent.com/claytonsilva007/IDP/refs/heads/main/ml-01/dados/titanic/train.csv'\n",
    "CAMINHO_BASE_TESTE = 'https://raw.githubusercontent.com/claytonsilva007/IDP/refs/heads/main/ml-01/dados/titanic/test.csv'"
   ]
  },
  {
   "cell_type": "code",
   "execution_count": 5,
   "metadata": {},
   "outputs": [],
   "source": [
    "def carregar_dados(path: str):\n",
    "  dados = pd.read_csv(path)\n",
    "  return dados"
   ]
  },
  {
   "cell_type": "code",
   "execution_count": 6,
   "metadata": {},
   "outputs": [],
   "source": [
    "def obter_treino_e_teste(df: pd.DataFrame, perc_treino: float = 0.8):\n",
    "    treino, teste = train_test_split(df, train_size=perc_treino ,random_state=42)\n",
    "    return treino, teste  "
   ]
  },
  {
   "cell_type": "code",
   "execution_count": 7,
   "metadata": {},
   "outputs": [],
   "source": [
    "def transformar_sex_em_inteiro(df: pd.DataFrame):\n",
    "    df.Sex = df.Sex.map({'male': 0, 'female': 1})\n",
    "    return df"
   ]
  },
  {
   "cell_type": "code",
   "execution_count": 8,
   "metadata": {},
   "outputs": [],
   "source": [
    "def adicionar_indicador_menor_idade(df: pd.DataFrame):\n",
    "    df['isChild'] = df.Age.map(lambda age: 1 if age < 0 else 0)\n",
    "    return df"
   ]
  },
  {
   "cell_type": "code",
   "execution_count": 9,
   "metadata": {},
   "outputs": [],
   "source": [
    "def calcular_roc_auc(y_true, y_pred):\n",
    "    # Calcular a curva ROC\n",
    "    fpr, tpr, _ = roc_curve(y_true, y_pred)\n",
    "    \n",
    "    # Calcular a área sob a curva (AUC)\n",
    "    roc_auc = auc(fpr, tpr)\n",
    "    \n",
    "    return roc_auc"
   ]
  },
  {
   "cell_type": "code",
   "execution_count": 10,
   "metadata": {},
   "outputs": [],
   "source": [
    "def exibir_metricas_desempenho(ypred, ytrue):\n",
    "    acuracia = accuracy_score(y_pred=ypred, y_true=ytrue)\n",
    "    precisao = precision_score(y_pred=ypred, y_true=ytrue)\n",
    "    revocacao = recall_score(y_pred=ypred, y_true=ytrue)\n",
    "    roc_auc = calcular_roc_auc(y_pred=ypred, y_true=ytrue)\n",
    "\n",
    "    print(f'Acurácia: {round(acuracia, 5)}')\n",
    "    print(f'Precisão: {round(precisao, 5)}')\n",
    "    print(f'Revocação: {round(revocacao, 5)}')\n",
    "    print(f'ROC-AUC: {round(roc_auc, 5)}')"
   ]
  },
  {
   "cell_type": "code",
   "execution_count": 11,
   "metadata": {},
   "outputs": [],
   "source": [
    "def plot_roc_auc(ytrue, ypred):\n",
    "    # Gerar curva de precisão-revocação\n",
    "    precision, recall, _ = precision_recall_curve(ytrue, ypred)\n",
    "\n",
    "    plt.figure(figsize=(14, 7))\n",
    "\n",
    "    # Subplot para a curva de precisão-revocação\n",
    "    plt.subplot(1, 2, 1)\n",
    "    plt.plot(recall, precision, marker='.', label='Precision-Recall Curve')\n",
    "    plt.xlabel('Recall')\n",
    "    plt.ylabel('Precision')\n",
    "    plt.title('Precision-Recall Curve')\n",
    "    plt.legend()\n",
    "\n",
    "    # Subplot para a curva ROC\n",
    "    fpr, tpr, _ = roc_curve(ytrue, ypred)\n",
    "\n",
    "    plt.subplot(1, 2, 2)\n",
    "    plt.plot(fpr, tpr, marker='.', label='ROC Curve')\n",
    "    plt.xlabel('False Positive Rate')\n",
    "    plt.ylabel('True Positive Rate')\n",
    "    plt.title('ROC Curve')\n",
    "    plt.legend()\n",
    "\n",
    "    # Mostrar os gráficos\n",
    "    plt.show()"
   ]
  },
  {
   "cell_type": "markdown",
   "metadata": {},
   "source": [
    "### **<span style=\"color:green\">OBTENHA E PROCESSE OS DADOS</span>**"
   ]
  },
  {
   "cell_type": "code",
   "execution_count": 12,
   "metadata": {},
   "outputs": [
    {
     "data": {
      "text/html": [
       "<div>\n",
       "<style scoped>\n",
       "    .dataframe tbody tr th:only-of-type {\n",
       "        vertical-align: middle;\n",
       "    }\n",
       "\n",
       "    .dataframe tbody tr th {\n",
       "        vertical-align: top;\n",
       "    }\n",
       "\n",
       "    .dataframe thead th {\n",
       "        text-align: right;\n",
       "    }\n",
       "</style>\n",
       "<table border=\"1\" class=\"dataframe\">\n",
       "  <thead>\n",
       "    <tr style=\"text-align: right;\">\n",
       "      <th></th>\n",
       "      <th>PassengerId</th>\n",
       "      <th>Survived</th>\n",
       "      <th>Pclass</th>\n",
       "      <th>Name</th>\n",
       "      <th>Sex</th>\n",
       "      <th>Age</th>\n",
       "      <th>SibSp</th>\n",
       "      <th>Parch</th>\n",
       "      <th>Ticket</th>\n",
       "      <th>Fare</th>\n",
       "      <th>Cabin</th>\n",
       "      <th>Embarked</th>\n",
       "      <th>isChild</th>\n",
       "    </tr>\n",
       "  </thead>\n",
       "  <tbody>\n",
       "    <tr>\n",
       "      <th>0</th>\n",
       "      <td>1</td>\n",
       "      <td>0</td>\n",
       "      <td>3</td>\n",
       "      <td>Braund, Mr. Owen Harris</td>\n",
       "      <td>0</td>\n",
       "      <td>22.0</td>\n",
       "      <td>1</td>\n",
       "      <td>0</td>\n",
       "      <td>A/5 21171</td>\n",
       "      <td>7.2500</td>\n",
       "      <td>NaN</td>\n",
       "      <td>S</td>\n",
       "      <td>0</td>\n",
       "    </tr>\n",
       "    <tr>\n",
       "      <th>1</th>\n",
       "      <td>2</td>\n",
       "      <td>1</td>\n",
       "      <td>1</td>\n",
       "      <td>Cumings, Mrs. John Bradley (Florence Briggs Th...</td>\n",
       "      <td>1</td>\n",
       "      <td>38.0</td>\n",
       "      <td>1</td>\n",
       "      <td>0</td>\n",
       "      <td>PC 17599</td>\n",
       "      <td>71.2833</td>\n",
       "      <td>C85</td>\n",
       "      <td>C</td>\n",
       "      <td>0</td>\n",
       "    </tr>\n",
       "  </tbody>\n",
       "</table>\n",
       "</div>"
      ],
      "text/plain": [
       "   PassengerId  Survived  Pclass  \\\n",
       "0            1         0       3   \n",
       "1            2         1       1   \n",
       "\n",
       "                                                Name  Sex   Age  SibSp  Parch  \\\n",
       "0                            Braund, Mr. Owen Harris    0  22.0      1      0   \n",
       "1  Cumings, Mrs. John Bradley (Florence Briggs Th...    1  38.0      1      0   \n",
       "\n",
       "      Ticket     Fare Cabin Embarked  isChild  \n",
       "0  A/5 21171   7.2500   NaN        S        0  \n",
       "1   PC 17599  71.2833   C85        C        0  "
      ]
     },
     "execution_count": 12,
     "metadata": {},
     "output_type": "execute_result"
    }
   ],
   "source": [
    "df = carregar_dados(path=CAMINHO_BASE_TREINAMENTO)\n",
    "df = adicionar_indicador_menor_idade(df)\n",
    "df = transformar_sex_em_inteiro(df)\n",
    "df.head(2)"
   ]
  },
  {
   "cell_type": "markdown",
   "metadata": {},
   "source": [
    "### **<span style=\"color:green\">TRATE OS ATRIBUTOS NULOS</span>**"
   ]
  },
  {
   "cell_type": "markdown",
   "metadata": {},
   "source": [
    "**Principais tecnicas de imputação de valores nulos**\n",
    "\n",
    "1. **Imputação por Média/Média Ponderada**: Substitui valores ausentes pela média dos valores existentes. A média ponderada leva em consideração a frequência dos valores.\n",
    "\n",
    "2. **Imputação por Média de Grupo**: Usa a média dos valores de um grupo específico ao qual a observação pertence.\n",
    "\n",
    "3. **Imputação por K-Vizinhos Mais Próximos (KNN)**: Substitui valores ausentes com base nos valores dos k vizinhos mais próximos.\n",
    "\n",
    "4. **Imputação por Regressão**: Usa modelos de regressão para prever os valores ausentes com base nas outras variáveis."
   ]
  },
  {
   "cell_type": "code",
   "execution_count": 14,
   "metadata": {},
   "outputs": [],
   "source": [
    "# Informe aqui o comando para visualizar informações gerais da base de dados, inclusive, valores nulos.\n"
   ]
  },
  {
   "cell_type": "markdown",
   "metadata": {},
   "source": [
    "**Preencha os valores vazios da coluna Age com a média do grupo Sexo e Pclass.** <br /><br />\n",
    "Como fazer a imputação por média de grupo?\n",
    "\n",
    "- Preenchendo os valores ausentes em 'Age' com as médias calculadas para cada grupo correspondente\n",
    "\n",
    "     ```df['Age'].fillna(...)```\n",
    "\n",
    "- Agrupando o DataFrame pelas colunas 'Sex' e 'Pclass'\n",
    "\n",
    "    ```groupby(['Sex', 'Pclass'])```: \n",
    "\n",
    "- Calculando a média de 'Age' para cada grupo.\n",
    "\n",
    "     ```['Age'].transform('mean')```"
   ]
  },
  {
   "cell_type": "code",
   "execution_count": null,
   "metadata": {},
   "outputs": [],
   "source": [
    "df['Age'] = 'Digite aqui o comando para preencher valores ausentes da coluna Age'\n",
    "\n",
    "df.info()"
   ]
  },
  {
   "cell_type": "markdown",
   "metadata": {},
   "source": [
    "Preencha os valores do campo Embarked com os valores mais frequentes. <br /> <br />\n",
    "\n",
    "- Encontrando o valor mais frequente na coluna 'Embarked'\n",
    "\n",
    "    ```df['Embarked'].mode()[0]```\n",
    "\n",
    "- preencheenchendo os valores ausentes com o valor mais frequente.\n",
    "\n",
    "    ```fillna(df['Nome'].mode()[0])```"
   ]
  },
  {
   "cell_type": "code",
   "execution_count": null,
   "metadata": {},
   "outputs": [],
   "source": [
    "df['Embarked'] = 'Digite aqui o comando para preencher valores valores ausentes da coluna Embarked'\n",
    "\n",
    "df.info()"
   ]
  },
  {
   "cell_type": "markdown",
   "metadata": {},
   "source": [
    "### **<span style=\"color:green\">TRANSFORME ATRIBUTOS CATEGÓRICOS EM NUMÉRICOS</span>**"
   ]
  },
  {
   "cell_type": "markdown",
   "metadata": {},
   "source": [
    "Existem diversas técnicas de transformação de atributos categóricos em numéricos. As mais famosas são **Label Encoder** e **One Hot Encoder**. Enquanto a primeira funciona bem para problemas **\"Convencionais/tabulares\"**, a segunda técnica funciona bem para **redes neurais**. Para o nosso problema, utilizaremos Label Encoder. <br /> \n",
    "\n",
    "1. Cria uma instância do LabelEncoder.\n",
    "2. Ajusta o LabelEncoder aos dados da coluna 'Embarked' e transforma esses dados em valores numéricos. \n",
    "3. Utilize a função ```value_counts()``` do pandas para visualizar a quantidade de embarques distintos."
   ]
  },
  {
   "cell_type": "code",
   "execution_count": null,
   "metadata": {},
   "outputs": [],
   "source": [
    "from sklearn.preprocessing import LabelEncoder\n",
    "\n",
    "df['Embarked'] = 'Faça aqui a conversão da coluna Embarked'\n",
    "\n",
    "df...."
   ]
  },
  {
   "cell_type": "markdown",
   "metadata": {},
   "source": [
    "### **<span id=\"id_secao_prevendo_sobreviventes\" style=\"color:green\">PREVEJA OS SOBREVIVENTES COM DECISION TREE E RANDOM FOREST</span>**"
   ]
  },
  {
   "cell_type": "markdown",
   "metadata": {},
   "source": [
    "Reutilize o método `obter_treino_e_teste()` para dividir o dataframe em treino e teste."
   ]
  },
  {
   "cell_type": "code",
   "execution_count": 41,
   "metadata": {},
   "outputs": [],
   "source": [
    "treino, teste = obter_treino_e_teste(df)"
   ]
  },
  {
   "cell_type": "markdown",
   "metadata": {},
   "source": [
    "Crie o X e y de treino e teste conforme apresentado nos últimos notebooks. Utilize apenas as colunas <span style=\"color:red\">'Pclass', 'Fare', 'SibSp', 'Parch', 'Sex', 'isChild', 'Embarked', 'Age'</span>. "
   ]
  },
  {
   "cell_type": "code",
   "execution_count": 42,
   "metadata": {},
   "outputs": [],
   "source": [
    "cols_to_predict = ['Pclass', 'Fare', 'SibSp', 'Parch', 'Sex', 'isChild', 'Embarked', 'Age']"
   ]
  },
  {
   "cell_type": "code",
   "execution_count": 43,
   "metadata": {},
   "outputs": [],
   "source": [
    "x_treino = treino[cols_to_predict]\n",
    "y_treino = treino['Survived']\n",
    "\n",
    "x_teste = teste[cols_to_predict]\n",
    "y_teste = teste['Survived']"
   ]
  },
  {
   "cell_type": "markdown",
   "metadata": {},
   "source": [
    "##### **Treine o modelo DecisionTreeClassifier faça precisões**"
   ]
  },
  {
   "cell_type": "code",
   "execution_count": 44,
   "metadata": {},
   "outputs": [],
   "source": [
    "from sklearn.tree import DecisionTreeClassifier\n",
    "\n",
    "clf = 'Instancie o modelo'\n",
    "clf.fit('Treine o modelo')\n",
    "\n",
    "ypred_dt = 'Faça previsões com o modelo'"
   ]
  },
  {
   "cell_type": "markdown",
   "metadata": {},
   "source": [
    "Reutilize o método `exibir_metricas_desempenho()` para apresentar dados de performance do modelo decision tree."
   ]
  },
  {
   "cell_type": "code",
   "execution_count": null,
   "metadata": {},
   "outputs": [],
   "source": [
    "# Avalie as métricas de desempenho aqui ...\n",
    "\n"
   ]
  },
  {
   "cell_type": "markdown",
   "metadata": {},
   "source": [
    "Reutilize o método `plot_roc_auc()` para visualizar e avaliar o desempenho do modelo."
   ]
  },
  {
   "cell_type": "code",
   "execution_count": null,
   "metadata": {},
   "outputs": [],
   "source": [
    "# Analise o comportamento da ROC Curve\n",
    "\n"
   ]
  },
  {
   "cell_type": "markdown",
   "metadata": {},
   "source": [
    "#### **Treine o modelo RandomForestClassifier, faça previsões e armazeneas numa variável chamada ypred_rf.**"
   ]
  },
  {
   "cell_type": "code",
   "execution_count": 49,
   "metadata": {},
   "outputs": [],
   "source": [
    "from sklearn.ensemble import RandomForestClassifier\n",
    "\n",
    "clf = \"Instancie o modelo\"\n",
    "\n",
    "clf.... \"Treine o modelo\"\n",
    "\n",
    "ypred_rf = \"Faça previsões com o modelo\""
   ]
  },
  {
   "cell_type": "markdown",
   "metadata": {},
   "source": [
    "Reutilize o método `exibir_metricas_desempenho()` para avaliar a performance da Floresta Aleatória (RandomForest)"
   ]
  },
  {
   "cell_type": "code",
   "execution_count": null,
   "metadata": {},
   "outputs": [],
   "source": [
    "# Analise as métricas de desempenho do modelo e compare com as métricas obtidas no notebook 01_titanic_knn_reg_logistica.ipynb\n",
    "\n"
   ]
  },
  {
   "cell_type": "markdown",
   "metadata": {},
   "source": [
    "Reutilize o método `plot_roc_auc()` para visualizar e avaliar o desempenho do modelo."
   ]
  },
  {
   "cell_type": "code",
   "execution_count": 18,
   "metadata": {},
   "outputs": [],
   "source": [
    "# Plote a ROC Curve aqui ...\n"
   ]
  },
  {
   "cell_type": "markdown",
   "metadata": {},
   "source": [
    "### **<span style=\"color:green\">AVALIE A QUALIDADE DOS ATRIBUTOS COM MUTUAL INFORMATION E FEATURE IMPORTANCES</span>**"
   ]
  },
  {
   "cell_type": "markdown",
   "metadata": {},
   "source": [
    "#### **Informação Mútua (Mutual Information)**\n",
    "\n",
    "A informação mútua é uma medida da dependência entre duas variáveis aleatórias. Em termos simples, ela quantifica a quantidade de informação que uma variável contém sobre a outra. É usada em várias áreas, como teoria da informação, aprendizado de máquina e estatística.\n",
    "\n",
    "- **Captura de Dependências Não-Lineares**: Ao contrário da correlação, a informação mútua pode capturar dependências não-lineares entre variáveis.\n",
    "- **Simplicidade Conceitual**: É uma medida intuitiva que quantifica a redução da incerteza sobre uma variável ao conhecer outra."
   ]
  },
  {
   "cell_type": "code",
   "execution_count": null,
   "metadata": {},
   "outputs": [],
   "source": [
    "from sklearn.feature_selection import mutual_info_classif\n",
    "\n",
    "def calcular_mi_scores(df):\n",
    "    X = df[cols_to_predict]\n",
    "    y = df['Survived']\n",
    "    \n",
    "    # Calcular as pontuações de informação mútua\n",
    "    mi_scores = mutual_info_classif(X, y)\n",
    "    \n",
    "    # Criar um dataframe com as pontuações\n",
    "    mi_scores_df = pd.DataFrame(\n",
    "        {\n",
    "            'Atributo': X.columns,\n",
    "            'MI Score': mi_scores\n",
    "        }\n",
    "    ).sort_values(by='MI Score', ascending=False)\n",
    "    \n",
    "    return mi_scores_df\n",
    "\n",
    "\n",
    "mi_scores_df = calcular_mi_scores(df)\n",
    "print(mi_scores_df)"
   ]
  },
  {
   "cell_type": "code",
   "execution_count": null,
   "metadata": {},
   "outputs": [],
   "source": [
    "def plot_mi_scores(mi_scores_df):      \n",
    "    plt.figure(figsize=(10, 6))\n",
    "    plt.barh(mi_scores_df['Atributo'], mi_scores_df['MI Score'], color='skyblue')\n",
    "    plt.xlabel('MI Score')\n",
    "    plt.ylabel('Atributo')\n",
    "    plt.title('Pontuação de Informação Mútua (MI Score) por Atributo')\n",
    "    plt.gca().invert_yaxis()  # Inverter eixo y para ter o atributo com maior MI no topo\n",
    "    plt.show()\n",
    "\n",
    "plot_mi_scores(mi_scores_df=mi_scores_df)"
   ]
  },
  {
   "cell_type": "markdown",
   "metadata": {},
   "source": [
    "#### **Importância das Features em Modelos de Árvore**\n",
    "\n",
    "**Feature Importance** quantifica a relevância de cada variável independente (feature) para as previsões do modelo. Nos modelos de árvore, como Decision Trees, Random Forests e Gradient Boosting, a importância das features é medida com base em quanto elas melhoram a pureza dos nós (divisões).\n",
    "\n",
    "#### **Como Funciona:**\n",
    "1. **Divisões e Nós**:\n",
    "   - Os dados são divididos em subconjuntos em cada nó da árvore com base em uma feature específica.\n",
    "  \n",
    "2. **Cálculo da Importância**:\n",
    "   - A importância de uma feature é calculada pela redução da impureza (ex. Gini impurity ou Entropy) causada pelas divisões que a feature gera. Mais redução na impureza significa maior importância.\n",
    "\n",
    "3. **Ensemble Models (Random Forests e Gradient Boosting)**:\n",
    "   - A importância de uma feature é a média das importâncias dessa feature em todas as árvores do ensemble.\n",
    "\n",
    "4. **Normalização**:\n",
    "   - As importâncias das features são normalizadas para que a soma de todas seja igual a 1."
   ]
  },
  {
   "cell_type": "code",
   "execution_count": 53,
   "metadata": {},
   "outputs": [],
   "source": [
    "clf = RandomForestClassifier()\n",
    "clf.fit(X=df[cols_to_predict], y=df.Survived)\n",
    "rf_importances = clf.feature_importances_\n",
    "forest_importances = pd.Series(rf_importances, index=cols_to_predict)"
   ]
  },
  {
   "cell_type": "code",
   "execution_count": null,
   "metadata": {},
   "outputs": [],
   "source": [
    "fig, ax = plt.subplots()\n",
    "forest_importances.plot.barh(ax=ax)\n",
    "fig.tight_layout()"
   ]
  }
 ],
 "metadata": {
  "kernelspec": {
   "display_name": ".venv",
   "language": "python",
   "name": "python3"
  },
  "language_info": {
   "codemirror_mode": {
    "name": "ipython",
    "version": 3
   },
   "file_extension": ".py",
   "mimetype": "text/x-python",
   "name": "python",
   "nbconvert_exporter": "python",
   "pygments_lexer": "ipython3",
   "version": "3.13.1"
  }
 },
 "nbformat": 4,
 "nbformat_minor": 2
}
