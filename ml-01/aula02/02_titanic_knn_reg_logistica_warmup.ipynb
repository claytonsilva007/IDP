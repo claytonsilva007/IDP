{
 "cells": [
  {
   "cell_type": "markdown",
   "metadata": {},
   "source": [
    "### **<span style=\"color:green\">VISÃO GERAL DA BASE DE DADOS: Titanic</span>**\n",
    "\n",
    "Esta base de dados contém informações sobre os passageiros do Titanic, o famoso navio que afundou em 1912. Ela é amplamente utilizada para análises de sobrevivência e para entender os fatores que influenciaram a sobrevivência dos passageiros. Aqui estão algumas das variáveis incluídas:\n",
    "\n",
    "- **PassengerId**: Identificador único de cada passageiro.\n",
    "- **Survived**: Indica se o passageiro sobreviveu (1) ou não (0).\n",
    "- **Pclass**: Classe do bilhete do passageiro (1ª, 2ª, 3ª).\n",
    "- **Name**: Nome do passageiro.\n",
    "- **Sex**: Sexo do passageiro.\n",
    "- **Age**: Idade do passageiro.\n",
    "- **SibSp**: Número de irmãos/cônjuges a bordo do Titanic.\n",
    "- **Parch**: Número de pais/filhos a bordo do Titanic.\n",
    "- **Ticket**: Número do bilhete.\n",
    "- **Fare**: Tarifa paga pelo bilhete.\n",
    "- **Cabin**: Número da cabine.\n",
    "- **Embarked**: Porto de embarque (C = Cherbourg; Q = Queenstown; S = Southampton).\n",
    "\n",
    "A meta é entender como diferentes características dos passageiros e suas condições de viagem podem influenciar a probabilidade de sobrevivência no naufrágio do Titanic. Essa base de dados pode ser usada para diversas análises, como identificar padrões de sobrevivência, visualizar tendências demográficas dos passageiros e realizar previsões sobre fatores que afetaram as chances de sobrevivência.\n",
    "\n",
    "Link para a competição do Kaggle: https://www.kaggle.com/competitions/titanic/overview\n",
    "\n",
    "---"
   ]
  },
  {
   "cell_type": "markdown",
   "metadata": {},
   "source": [
    "### **<span style=\"color:green\">IMPORTS E CONFIGURAÇÕES</span>**"
   ]
  },
  {
   "cell_type": "code",
   "execution_count": 5,
   "metadata": {},
   "outputs": [],
   "source": [
    "import pandas as pd\n",
    "import numpy as np\n",
    "import seaborn as sns\n",
    "from sklearn.model_selection import train_test_split\n",
    "from sklearn.metrics import precision_recall_curve, roc_curve, accuracy_score, precision_score, recall_score, auc\n",
    "import matplotlib.pyplot as plt\n",
    "\n",
    "#!pip install ipywidgets"
   ]
  },
  {
   "cell_type": "code",
   "execution_count": 6,
   "metadata": {},
   "outputs": [],
   "source": [
    "# prompt: Crie para mim um método que recebe uma lista de textos e exiba um conjunto de radio buttons\n",
    "\n",
    "import ipywidgets as widgets\n",
    "from IPython.display import display\n",
    "\n",
    "def exibir_alternativas(textos):\n",
    "  radio_buttons = widgets.RadioButtons(\n",
    "      options=textos,\n",
    "      description='',\n",
    "      disabled=False\n",
    "  )\n",
    "  display(radio_buttons)"
   ]
  },
  {
   "cell_type": "code",
   "execution_count": 7,
   "metadata": {},
   "outputs": [],
   "source": [
    "def calcular_roc_auc(y_true, y_pred):\n",
    "    # Calcular a curva ROC\n",
    "    fpr, tpr, _ = roc_curve(y_true, y_pred)\n",
    "    \n",
    "    # Calcular a área sob a curva (AUC)\n",
    "    roc_auc = auc(fpr, tpr)\n",
    "    \n",
    "    return roc_auc"
   ]
  },
  {
   "cell_type": "code",
   "execution_count": 8,
   "metadata": {},
   "outputs": [],
   "source": [
    "def plot_roc_auc(y_true, y_pred):\n",
    "    # Gerar curva de precisão-revocação\n",
    "    precision, recall, _ = precision_recall_curve(y_true, y_pred)\n",
    "\n",
    "    plt.figure(figsize=(14, 7))\n",
    "\n",
    "    # Subplot para a curva de precisão-revocação\n",
    "    plt.subplot(1, 2, 1)\n",
    "    plt.plot(recall, precision, marker='.', label='Precision-Recall Curve')\n",
    "    plt.xlabel('Recall')\n",
    "    plt.ylabel('Precision')\n",
    "    plt.title('Precision-Recall Curve')\n",
    "    plt.legend()\n",
    "\n",
    "    # Subplot para a curva ROC\n",
    "    fpr, tpr, _ = roc_curve(y_true, y_pred)\n",
    "\n",
    "    plt.subplot(1, 2, 2)\n",
    "    plt.plot(fpr, tpr, marker='.', label='ROC Curve')\n",
    "    plt.xlabel('False Positive Rate')\n",
    "    plt.ylabel('True Positive Rate')\n",
    "    plt.title('ROC Curve')\n",
    "    plt.legend()\n",
    "\n",
    "    # Mostrar os gráficos\n",
    "    plt.show()"
   ]
  },
  {
   "cell_type": "markdown",
   "metadata": {},
   "source": [
    "### **<span style=\"color:green\">VISÃO GERAL DOS DADOS</span>**"
   ]
  },
  {
   "cell_type": "code",
   "execution_count": 9,
   "metadata": {},
   "outputs": [],
   "source": [
    "CAMINHO_BASE_TREINAMENTO = 'C:/Users/clayt/Projetos/IDP/ml-01/dados/titanic/train.csv'\n",
    "CAMINHO_BASE_TESTE = 'C:/Users/clayt/Projetos/IDP/ml-01/dados/titanic/test.csv'"
   ]
  },
  {
   "cell_type": "markdown",
   "metadata": {},
   "source": [
    "Função que recebe um path de um csv e retorna um dataframe"
   ]
  },
  {
   "cell_type": "code",
   "execution_count": 10,
   "metadata": {},
   "outputs": [],
   "source": [
    "def carregar_dados(path: str):\n",
    "  dados = pd.read_csv(path)\n",
    "  return dados"
   ]
  },
  {
   "cell_type": "code",
   "execution_count": 11,
   "metadata": {},
   "outputs": [],
   "source": [
    "def obter_treino_e_teste(df: pd.DataFrame, perc_treino: float = 0.8):\n",
    "    treino, teste = train_test_split(df, train_size=perc_treino ,random_state=42)\n",
    "    return treino, teste  "
   ]
  },
  {
   "cell_type": "markdown",
   "metadata": {},
   "source": [
    "Utilize a função `carregar_dados(path: str)` para obter um dataframe a partir da planilha train.csv (CAMINHO_BASE_TREINAMENTO)"
   ]
  },
  {
   "cell_type": "code",
   "execution_count": 12,
   "metadata": {},
   "outputs": [],
   "source": [
    "df = carregar_dados(path=CAMINHO_BASE_TREINAMENTO)"
   ]
  },
  {
   "cell_type": "markdown",
   "metadata": {},
   "source": [
    "Liste as 3 primeiras linhas do dataframe utilizando a função `head()`"
   ]
  },
  {
   "cell_type": "code",
   "execution_count": null,
   "metadata": {},
   "outputs": [],
   "source": []
  },
  {
   "cell_type": "markdown",
   "metadata": {},
   "source": [
    "Liste as últimas linhas do dataframe utilizando a função `tail()`"
   ]
  },
  {
   "cell_type": "code",
   "execution_count": null,
   "metadata": {},
   "outputs": [],
   "source": []
  },
  {
   "cell_type": "markdown",
   "metadata": {},
   "source": [
    "Utilize a função `info()` para responder as seguintes perguntas: Existem colunas com valores vazios? Quais são os tipos dos dados? Quantas linhas tem o arquivo? "
   ]
  },
  {
   "cell_type": "code",
   "execution_count": null,
   "metadata": {},
   "outputs": [],
   "source": []
  },
  {
   "cell_type": "markdown",
   "metadata": {},
   "source": [
    "Existem valores discrepantes em colunas do dataframe? Utilize a função `describe()` para isso."
   ]
  },
  {
   "cell_type": "code",
   "execution_count": null,
   "metadata": {},
   "outputs": [],
   "source": []
  },
  {
   "cell_type": "markdown",
   "metadata": {},
   "source": [
    "### **<span id=\"id_secao_prevendo_sobreviventes\" style=\"color:green\">PREVEJA OS SOBREVIVENTES</span>**"
   ]
  },
  {
   "cell_type": "markdown",
   "metadata": {},
   "source": [
    "Utilize o train_test_split do pacote sklearn.model_selection para dividir os dados em treinamento e teste. Em geral, utilizam-se (80-70)% para treino (30-20)% por cento para testes. "
   ]
  },
  {
   "cell_type": "code",
   "execution_count": 347,
   "metadata": {},
   "outputs": [],
   "source": [
    "treino, teste = \"Chame o método aqui\""
   ]
  },
  {
   "cell_type": "markdown",
   "metadata": {},
   "source": [
    "Crie o X e y de treino e teste conforme apresentado nos últimos notebooks. Utilize apenas as colunas <span style=\"color:red\">'Pclass', 'Fare', 'SibSp', 'Parch'</span> nesse primeiro momento. **Dica**: Crie um array para armazenar as colunas para facilitar a inclusão ou remoção de features.  "
   ]
  },
  {
   "cell_type": "code",
   "execution_count": 348,
   "metadata": {},
   "outputs": [],
   "source": [
    "cols_to_predict = ['Pclass', 'Fare', 'SibSp', 'Parch']"
   ]
  },
  {
   "cell_type": "code",
   "execution_count": 349,
   "metadata": {},
   "outputs": [],
   "source": [
    "x_treino = \"\"\n",
    "y_treino = \"\"\n",
    "\n",
    "x_teste = \"\"\n",
    "y_teste = \"\""
   ]
  },
  {
   "cell_type": "markdown",
   "metadata": {},
   "source": [
    "Treine o modelo LinearRegression"
   ]
  },
  {
   "cell_type": "code",
   "execution_count": null,
   "metadata": {},
   "outputs": [],
   "source": [
    "from sklearn.linear_model import LogisticRegression\n",
    "\n",
    "linear_model = \"Instancie o objeto\"\n",
    "linear_model.fit(\"Passe os argumentos\")"
   ]
  },
  {
   "cell_type": "markdown",
   "metadata": {},
   "source": [
    "Faça previsões do valor médio dos imóveis e compare os valores reais e os valores previstos. "
   ]
  },
  {
   "cell_type": "code",
   "execution_count": null,
   "metadata": {},
   "outputs": [],
   "source": [
    "ypred = linear_model.predict(\"Passe os argumentos para a predição.\")\n",
    "\n",
    "print(f'Valores Reais: {y_teste.to_list()[:5]}')\n",
    "print(f'Valores previstos: {ypred[:5]}')"
   ]
  },
  {
   "cell_type": "markdown",
   "metadata": {},
   "source": [
    "### **<span style=\"color:green\">AVALIE O DESEMPENHO DO MODELO</span>**"
   ]
  },
  {
   "cell_type": "markdown",
   "metadata": {},
   "source": [
    "**Revisão das principais métricas de Avaliação para Algoritmos de Classificação**\n",
    "\n",
    "- **Acurácia** mede a proporção de previsões corretas em relação ao total de previsões.\n",
    "- **Precisão** avalia a proporção de verdadeiros positivos em relação ao total de positivos previstos.\n",
    "- **Recall (Revocação)** mede a proporção de verdadeiros positivos em relação ao total de positivos reais."
   ]
  },
  {
   "cell_type": "markdown",
   "metadata": {},
   "source": [
    "Calcule as métricas de acurácia, precisão, revocação e roc_auc."
   ]
  },
  {
   "cell_type": "code",
   "execution_count": 352,
   "metadata": {},
   "outputs": [],
   "source": [
    "acuracia = accuracy_score(\"Informe aqui os argumentos\")\n",
    "precisao = precision_score(\"Informe aqui os argumentos\")\n",
    "revocacao = recall_score(\"Informe aqui os argumentos\")\n",
    "roc_auc = calcular_roc_auc(\"Informe aqui os argumentos\")"
   ]
  },
  {
   "cell_type": "markdown",
   "metadata": {},
   "source": [
    "Imprima os valores das métricas."
   ]
  },
  {
   "cell_type": "code",
   "execution_count": null,
   "metadata": {},
   "outputs": [],
   "source": [
    "print(f'Acurácia: {round(\"Inserir variável\", 5)}')\n",
    "print(f'Precisão: {round(\"Inserir variável\", 5)}')\n",
    "print(f'Revocação: {round(\"Inserir variável\", 5)}')\n",
    "print(f'ROC-AUC: {round(\"Inserir variável\", 5)}')"
   ]
  },
  {
   "cell_type": "markdown",
   "metadata": {},
   "source": [
    "Utilize a função `plot_roc_auc()`, desenvolvida por nós em momentos anteriores, para visualizar a o gráfico de curva roc_auc. "
   ]
  },
  {
   "cell_type": "code",
   "execution_count": null,
   "metadata": {},
   "outputs": [],
   "source": []
  },
  {
   "cell_type": "markdown",
   "metadata": {},
   "source": [
    "**Importância da Curva ROC e AUC**\n",
    "\n",
    "**Curva ROC**\n",
    "- **Avaliação Visual**: Mostra a relação entre a taxa de verdadeiros positivos (TPR) e a taxa de falsos positivos (FPR).\n",
    "- **Comparação de Modelos**: Permite comparar diferentes modelos de classificação.\n",
    "- **Detecção de Desempenho**: Ajuda a identificar se o modelo está performando bem.\n",
    "\n",
    "**AUC (Área Sob a Curva)**\n",
    "- **Resumo Numérico**: Fornece um valor que resume a performance do modelo, variando de 0 a 1.\n",
    "- **Independência do Limiar**: Avalia a habilidade do modelo sem depender de um limiar específico.\n",
    "- **Probabilidade de Classificação Correta**: Indica a probabilidade de classificar corretamente pares de exemplos positivos e negativos."
   ]
  },
  {
   "cell_type": "markdown",
   "metadata": {},
   "source": [
    "Esse modelo tem uma boa performance? Certamente, não! Um modelo que preveja que todos os homens morrem e todas as mulheres sobrevivem é melhor do que o modelo que acabamos de treinar."
   ]
  },
  {
   "cell_type": "code",
   "execution_count": null,
   "metadata": {},
   "outputs": [],
   "source": [
    "from copy import copy\n",
    "\n",
    "temp = copy(teste)\n",
    "temp['Survived'] = temp['Sex'].map(lambda sex: 1 if sex=='female' else 0)\n",
    "\n",
    "acuracia = accuracy_score()\n",
    "precisao = precision_score()\n",
    "revocacao = recall_score()\n",
    "roc_auc = calcular_roc_auc()\n",
    "\n",
    "print(f'Acurácia: {round(\"\", 5)}')\n",
    "print(f'Precisão: {round(\"\", 5)}')\n",
    "print(f'Revocação: {round(\"\", 5)}')\n",
    "print(f'ROC-AUC: {round(\"\", 5)}')"
   ]
  },
  {
   "cell_type": "markdown",
   "metadata": {},
   "source": [
    "### **<span style=\"color:green\">CRIE NOVAS CARACTERÍSTICAS(FEATURE ENGINEERING) E REAVALIE O MODELO</span>**"
   ]
  },
  {
   "cell_type": "markdown",
   "metadata": {},
   "source": [
    "Como você pode observar no gráfico da seção anterior, o sexo é uma feature(característica, atributo) importante, mas não pode ser submetida aos algoritmos de Machine Learning porque é uma string. Converta essa feature para inteiro utilizando a função `map()` do pandas. "
   ]
  },
  {
   "cell_type": "code",
   "execution_count": 356,
   "metadata": {},
   "outputs": [
    {
     "data": {
      "text/html": [
       "<div>\n",
       "<style scoped>\n",
       "    .dataframe tbody tr th:only-of-type {\n",
       "        vertical-align: middle;\n",
       "    }\n",
       "\n",
       "    .dataframe tbody tr th {\n",
       "        vertical-align: top;\n",
       "    }\n",
       "\n",
       "    .dataframe thead th {\n",
       "        text-align: right;\n",
       "    }\n",
       "</style>\n",
       "<table border=\"1\" class=\"dataframe\">\n",
       "  <thead>\n",
       "    <tr style=\"text-align: right;\">\n",
       "      <th></th>\n",
       "      <th>PassengerId</th>\n",
       "      <th>Survived</th>\n",
       "      <th>Pclass</th>\n",
       "      <th>Name</th>\n",
       "      <th>Sex</th>\n",
       "      <th>Age</th>\n",
       "      <th>SibSp</th>\n",
       "      <th>Parch</th>\n",
       "      <th>Ticket</th>\n",
       "      <th>Fare</th>\n",
       "      <th>Cabin</th>\n",
       "      <th>Embarked</th>\n",
       "    </tr>\n",
       "  </thead>\n",
       "  <tbody>\n",
       "    <tr>\n",
       "      <th>0</th>\n",
       "      <td>1</td>\n",
       "      <td>0</td>\n",
       "      <td>3</td>\n",
       "      <td>Braund, Mr. Owen Harris</td>\n",
       "      <td>male</td>\n",
       "      <td>22.0</td>\n",
       "      <td>1</td>\n",
       "      <td>0</td>\n",
       "      <td>A/5 21171</td>\n",
       "      <td>7.2500</td>\n",
       "      <td>NaN</td>\n",
       "      <td>S</td>\n",
       "    </tr>\n",
       "    <tr>\n",
       "      <th>1</th>\n",
       "      <td>2</td>\n",
       "      <td>1</td>\n",
       "      <td>1</td>\n",
       "      <td>Cumings, Mrs. John Bradley (Florence Briggs Th...</td>\n",
       "      <td>female</td>\n",
       "      <td>38.0</td>\n",
       "      <td>1</td>\n",
       "      <td>0</td>\n",
       "      <td>PC 17599</td>\n",
       "      <td>71.2833</td>\n",
       "      <td>C85</td>\n",
       "      <td>C</td>\n",
       "    </tr>\n",
       "  </tbody>\n",
       "</table>\n",
       "</div>"
      ],
      "text/plain": [
       "   PassengerId  Survived  Pclass  \\\n",
       "0            1         0       3   \n",
       "1            2         1       1   \n",
       "\n",
       "                                                Name     Sex   Age  SibSp  \\\n",
       "0                            Braund, Mr. Owen Harris    male  22.0      1   \n",
       "1  Cumings, Mrs. John Bradley (Florence Briggs Th...  female  38.0      1   \n",
       "\n",
       "   Parch     Ticket     Fare Cabin Embarked  \n",
       "0      0  A/5 21171   7.2500   NaN        S  \n",
       "1      0   PC 17599  71.2833   C85        C  "
      ]
     },
     "execution_count": 356,
     "metadata": {},
     "output_type": "execute_result"
    }
   ],
   "source": [
    "df.head(2)"
   ]
  },
  {
   "cell_type": "code",
   "execution_count": 357,
   "metadata": {},
   "outputs": [
    {
     "data": {
      "text/html": [
       "<div>\n",
       "<style scoped>\n",
       "    .dataframe tbody tr th:only-of-type {\n",
       "        vertical-align: middle;\n",
       "    }\n",
       "\n",
       "    .dataframe tbody tr th {\n",
       "        vertical-align: top;\n",
       "    }\n",
       "\n",
       "    .dataframe thead th {\n",
       "        text-align: right;\n",
       "    }\n",
       "</style>\n",
       "<table border=\"1\" class=\"dataframe\">\n",
       "  <thead>\n",
       "    <tr style=\"text-align: right;\">\n",
       "      <th></th>\n",
       "      <th>PassengerId</th>\n",
       "      <th>Survived</th>\n",
       "      <th>Pclass</th>\n",
       "      <th>Name</th>\n",
       "      <th>Sex</th>\n",
       "      <th>Age</th>\n",
       "      <th>SibSp</th>\n",
       "      <th>Parch</th>\n",
       "      <th>Ticket</th>\n",
       "      <th>Fare</th>\n",
       "      <th>Cabin</th>\n",
       "      <th>Embarked</th>\n",
       "    </tr>\n",
       "  </thead>\n",
       "  <tbody>\n",
       "    <tr>\n",
       "      <th>0</th>\n",
       "      <td>1</td>\n",
       "      <td>0</td>\n",
       "      <td>3</td>\n",
       "      <td>Braund, Mr. Owen Harris</td>\n",
       "      <td>0</td>\n",
       "      <td>22.0</td>\n",
       "      <td>1</td>\n",
       "      <td>0</td>\n",
       "      <td>A/5 21171</td>\n",
       "      <td>7.2500</td>\n",
       "      <td>NaN</td>\n",
       "      <td>S</td>\n",
       "    </tr>\n",
       "    <tr>\n",
       "      <th>1</th>\n",
       "      <td>2</td>\n",
       "      <td>1</td>\n",
       "      <td>1</td>\n",
       "      <td>Cumings, Mrs. John Bradley (Florence Briggs Th...</td>\n",
       "      <td>1</td>\n",
       "      <td>38.0</td>\n",
       "      <td>1</td>\n",
       "      <td>0</td>\n",
       "      <td>PC 17599</td>\n",
       "      <td>71.2833</td>\n",
       "      <td>C85</td>\n",
       "      <td>C</td>\n",
       "    </tr>\n",
       "  </tbody>\n",
       "</table>\n",
       "</div>"
      ],
      "text/plain": [
       "   PassengerId  Survived  Pclass  \\\n",
       "0            1         0       3   \n",
       "1            2         1       1   \n",
       "\n",
       "                                                Name  Sex   Age  SibSp  Parch  \\\n",
       "0                            Braund, Mr. Owen Harris    0  22.0      1      0   \n",
       "1  Cumings, Mrs. John Bradley (Florence Briggs Th...    1  38.0      1      0   \n",
       "\n",
       "      Ticket     Fare Cabin Embarked  \n",
       "0  A/5 21171   7.2500   NaN        S  \n",
       "1   PC 17599  71.2833   C85        C  "
      ]
     },
     "execution_count": 357,
     "metadata": {},
     "output_type": "execute_result"
    }
   ],
   "source": [
    "df.Sex = df.Sex.map({'male': 0, 'female': 1})\n",
    "df.head(2)"
   ]
  },
  {
   "cell_type": "markdown",
   "metadata": {},
   "source": [
    "É razoável supor que crianças tiveram prioridade de embarque nos botes salva-vidas. Crie um atributo para indicar se o passageiro é criança ou adulto. **DICA**: Utilize essa feature com a função `map()` combinada com expressão lambda."
   ]
  },
  {
   "cell_type": "code",
   "execution_count": 358,
   "metadata": {},
   "outputs": [
    {
     "data": {
      "text/html": [
       "<div>\n",
       "<style scoped>\n",
       "    .dataframe tbody tr th:only-of-type {\n",
       "        vertical-align: middle;\n",
       "    }\n",
       "\n",
       "    .dataframe tbody tr th {\n",
       "        vertical-align: top;\n",
       "    }\n",
       "\n",
       "    .dataframe thead th {\n",
       "        text-align: right;\n",
       "    }\n",
       "</style>\n",
       "<table border=\"1\" class=\"dataframe\">\n",
       "  <thead>\n",
       "    <tr style=\"text-align: right;\">\n",
       "      <th></th>\n",
       "      <th>PassengerId</th>\n",
       "      <th>Survived</th>\n",
       "      <th>Pclass</th>\n",
       "      <th>Name</th>\n",
       "      <th>Sex</th>\n",
       "      <th>Age</th>\n",
       "      <th>SibSp</th>\n",
       "      <th>Parch</th>\n",
       "      <th>Ticket</th>\n",
       "      <th>Fare</th>\n",
       "      <th>Cabin</th>\n",
       "      <th>Embarked</th>\n",
       "      <th>isChild</th>\n",
       "    </tr>\n",
       "  </thead>\n",
       "  <tbody>\n",
       "    <tr>\n",
       "      <th>0</th>\n",
       "      <td>1</td>\n",
       "      <td>0</td>\n",
       "      <td>3</td>\n",
       "      <td>Braund, Mr. Owen Harris</td>\n",
       "      <td>0</td>\n",
       "      <td>22.0</td>\n",
       "      <td>1</td>\n",
       "      <td>0</td>\n",
       "      <td>A/5 21171</td>\n",
       "      <td>7.2500</td>\n",
       "      <td>NaN</td>\n",
       "      <td>S</td>\n",
       "      <td>0</td>\n",
       "    </tr>\n",
       "    <tr>\n",
       "      <th>1</th>\n",
       "      <td>2</td>\n",
       "      <td>1</td>\n",
       "      <td>1</td>\n",
       "      <td>Cumings, Mrs. John Bradley (Florence Briggs Th...</td>\n",
       "      <td>1</td>\n",
       "      <td>38.0</td>\n",
       "      <td>1</td>\n",
       "      <td>0</td>\n",
       "      <td>PC 17599</td>\n",
       "      <td>71.2833</td>\n",
       "      <td>C85</td>\n",
       "      <td>C</td>\n",
       "      <td>0</td>\n",
       "    </tr>\n",
       "  </tbody>\n",
       "</table>\n",
       "</div>"
      ],
      "text/plain": [
       "   PassengerId  Survived  Pclass  \\\n",
       "0            1         0       3   \n",
       "1            2         1       1   \n",
       "\n",
       "                                                Name  Sex   Age  SibSp  Parch  \\\n",
       "0                            Braund, Mr. Owen Harris    0  22.0      1      0   \n",
       "1  Cumings, Mrs. John Bradley (Florence Briggs Th...    1  38.0      1      0   \n",
       "\n",
       "      Ticket     Fare Cabin Embarked  isChild  \n",
       "0  A/5 21171   7.2500   NaN        S        0  \n",
       "1   PC 17599  71.2833   C85        C        0  "
      ]
     },
     "execution_count": 358,
     "metadata": {},
     "output_type": "execute_result"
    }
   ],
   "source": [
    "df['isChild'] = df.Age.map(lambda age: 1 if age < 0 else 0)\n",
    "df.head(2)"
   ]
  },
  {
   "cell_type": "markdown",
   "metadata": {},
   "source": [
    "Utilize o método `obter_treino_e_teste(df=df)` para dividir o dataframe df em treino e teste. Instancie, treine, faça previsões."
   ]
  },
  {
   "cell_type": "code",
   "execution_count": null,
   "metadata": {},
   "outputs": [],
   "source": [
    "cols_to_predict = ['Pclass', 'Fare', 'SibSp', 'Parch', 'Sex', 'isChild']\n",
    "\n",
    "treino, teste = #Obtenha os dataframes conforme indicado no comentário acima.\n",
    "\n",
    "linear_model = # utilize o modelo de regressão logística\n",
    "linear_model.fit()  # treine o modelo\n",
    "\n",
    "ypred = linear_model.predict() # faça as previsões"
   ]
  },
  {
   "cell_type": "markdown",
   "metadata": {},
   "source": [
    "Analise a performance."
   ]
  },
  {
   "cell_type": "code",
   "execution_count": null,
   "metadata": {},
   "outputs": [],
   "source": [
    "acuracia = accuracy_score(y_pred=ypred, y_true=teste.Survived)\n",
    "precisao = precision_score(y_pred=ypred, y_true=teste.Survived)\n",
    "revocacao = recall_score(y_pred=ypred, y_true=teste.Survived)\n",
    "roc_auc = calcular_roc_auc(y_pred=ypred, y_true=teste.Survived)\n",
    "\n",
    "print(f'Acurácia: {round(acuracia, 5)}')\n",
    "print(f'Precisão: {round(precisao, 5)}')\n",
    "print(f'Revocação: {round(revocacao, 5)}')\n",
    "print(f'ROC-AUC: {round(roc_auc, 5)}')"
   ]
  },
  {
   "cell_type": "code",
   "execution_count": 363,
   "metadata": {},
   "outputs": [
    {
     "data": {
      "image/png": "[encoded data removed]",
      "text/plain": [
       "<Figure size 1400x700 with 2 Axes>"
      ]
     },
     "metadata": {},
     "output_type": "display_data"
    }
   ],
   "source": [
    "plot_roc_auc(y_true=teste.Survived, y_pred=ypred)"
   ]
  }
 ],
 "metadata": {
  "kernelspec": {
   "display_name": ".venv",
   "language": "python",
   "name": "python3"
  },
  "language_info": {
   "codemirror_mode": {
    "name": "ipython",
    "version": 3
   },
   "file_extension": ".py",
   "mimetype": "text/x-python",
   "name": "python",
   "nbconvert_exporter": "python",
   "pygments_lexer": "ipython3",
   "version": "3.13.1"
  }
 },
 "nbformat": 4,
 "nbformat_minor": 2
}
