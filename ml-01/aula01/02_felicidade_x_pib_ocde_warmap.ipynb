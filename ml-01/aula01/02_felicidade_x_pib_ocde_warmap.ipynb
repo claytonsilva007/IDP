{
 "cells": [
  {
   "cell_type": "code",
   "execution_count": 2,
   "metadata": {},
   "outputs": [],
   "source": [
    "import pandas as pd\n",
    "import numpy as np"
   ]
  },
  {
   "cell_type": "markdown",
   "metadata": {},
   "source": [
    "### **<span style=\"color:green\">VISÃO GERAL DOS DADOS</span>**"
   ]
  },
  {
   "cell_type": "code",
   "execution_count": 3,
   "metadata": {},
   "outputs": [],
   "source": [
    "PATH_GDPSET_E_LIFESET = 'C:/Users/clayt/Projetos/IDP/ml-01/dados/ocde/gdpset_e_lifeset.csv'\n",
    "PATH_GDPSET_E_LIFESET_PADRONIZADOS = 'C:/Users/clayt/Projetos/IDP/ml-01/dados/ocde/gdpset_e_lifeset_padronizados.csv'"
   ]
  },
  {
   "cell_type": "markdown",
   "metadata": {},
   "source": [
    "Função que recebe um path de um csv e retorna um dataframe"
   ]
  },
  {
   "cell_type": "code",
   "execution_count": 4,
   "metadata": {},
   "outputs": [],
   "source": [
    "def carregar_dados(path: str):\n",
    "  dados = pd.read_csv(path)\n",
    "  return dados"
   ]
  },
  {
   "cell_type": "markdown",
   "metadata": {},
   "source": [
    "Utilize a função carregar_dados(path: str) para obter um dataframe a partir da planilha gdpset_e_lifeset.csv (PATH_GDPSET_E_LIFESET)"
   ]
  },
  {
   "cell_type": "code",
   "execution_count": 5,
   "metadata": {},
   "outputs": [],
   "source": []
  },
  {
   "cell_type": "markdown",
   "metadata": {},
   "source": [
    "Visualize as 3 primeiras linhas do arquivo com a função **head()**. "
   ]
  },
  {
   "cell_type": "code",
   "execution_count": null,
   "metadata": {},
   "outputs": [],
   "source": []
  },
  {
   "cell_type": "markdown",
   "metadata": {},
   "source": [
    "Utilize a função **info()** para obter informações importantes sobre o dataframe, como tipos das colunas, quantidade de valores nulos e quantidade de linhas. "
   ]
  },
  {
   "cell_type": "code",
   "execution_count": null,
   "metadata": {},
   "outputs": [],
   "source": []
  },
  {
   "cell_type": "markdown",
   "metadata": {},
   "source": [
    "Utilize função `describe()` para obter um resumo estatístico de um DataFrame ou de uma série de dados. Ela é particularmente útil para ter uma visão geral dos dados e identificar rapidamente quaisquer anomalias ou padrões."
   ]
  },
  {
   "cell_type": "code",
   "execution_count": null,
   "metadata": {},
   "outputs": [],
   "source": []
  },
  {
   "cell_type": "markdown",
   "metadata": {},
   "source": [
    "Como iremos implementar um modelo de regressão, é fundamental que exista correlação entre variáveis independentes e dependente. Por agora, use as colunas <u>felicidade</u> e <u>pib_per_capita</u>. Utilize a função **corr(method='spearman')** se desejar calcular a correlação de **spearman**, ou **corr()** para o método de **pearson** for mais apropriado."
   ]
  },
  {
   "cell_type": "code",
   "execution_count": null,
   "metadata": {},
   "outputs": [],
   "source": []
  },
  {
   "cell_type": "markdown",
   "metadata": {},
   "source": [
    "Para problemas de regressão, o gráfico de dispersão (scatter) deve ser o primeiro a ser utilizado em suas análises. Visualize como os dados estão dispersos, buscando pela existência de uma relação linear entre as variáveis <u>felicidade</u> e <u>pib_per_capita</u>. Você pode utililizar o Matplotlib, Seaborn ou o pandas. Para esse exemplo, utilize a função **plot(kind='scatter')** do próprio dataframe pandas. **IMPORTANTE**: A variável que desejamos prever deve estar no eixo y. "
   ]
  },
  {
   "cell_type": "code",
   "execution_count": null,
   "metadata": {},
   "outputs": [],
   "source": []
  },
  {
   "cell_type": "markdown",
   "metadata": {},
   "source": [
    "### **<span style=\"color:green\">PREVENDO O NÍVEL DE FELICIDADE</span>**  "
   ]
  },
  {
   "cell_type": "markdown",
   "metadata": {},
   "source": [
    "Utilize o train_test_split do pacote sklearn.model_selection para dividir os dados em treinamento e teste. Em geral, utilizam-se (80-70)% para treino (30-20)% por cento para testes. Por ora, utilize apenas 10% para testes. \n",
    "\n",
    "**Dividir dados em treino e teste é importante para:**\n",
    "1. **Avaliar Desempenho**: Testar o modelo em dados não vistos.\n",
    "2. **Prevenir Overfitting**: Evitar que o modelo memorize os dados de treino.\n",
    "3. **Ajustar Hiperparâmetros**: Melhorar o modelo com dados de validação.\n",
    "4. **Verificar Consistência**: Garantir que o modelo é robusto.\n",
    "5. **Comparar Modelos**: Determinar qual modelo funciona melhor."
   ]
  },
  {
   "cell_type": "code",
   "execution_count": 39,
   "metadata": {},
   "outputs": [],
   "source": [
    "from sklearn.model_selection import train_test_split\n",
    "\n",
    "# incluir código aqui"
   ]
  },
  {
   "cell_type": "markdown",
   "metadata": {},
   "source": [
    "Agora, utilize os dataframes treino e teste para criar x_treino, y_treino, x_teste e y_teste. X representa a variável(eis) independente(s), o Y a variável dependente."
   ]
  },
  {
   "cell_type": "code",
   "execution_count": 40,
   "metadata": {},
   "outputs": [],
   "source": [
    "x_treino = ''\n",
    "y_treino = ''\n",
    "\n",
    "x_teste = ''\n",
    "y_teste = ''"
   ]
  },
  {
   "cell_type": "markdown",
   "metadata": {},
   "source": [
    "Treine o model (Modelo) LinearRegression com os dados de treinamento. Dica: A maioria dos modelos lineares está disponível no pacote sklearn.linear_model"
   ]
  },
  {
   "cell_type": "code",
   "execution_count": null,
   "metadata": {},
   "outputs": [],
   "source": [
    "from sklearn.linear_model import LinearRegression\n",
    "\n"
   ]
  },
  {
   "cell_type": "markdown",
   "metadata": {},
   "source": [
    "Faça previsões do nível de felicidade utilizando a base de teste e o modelo treinado. Compare os valores reais e os valores previstos. "
   ]
  },
  {
   "cell_type": "code",
   "execution_count": null,
   "metadata": {},
   "outputs": [],
   "source": []
  }
 ],
 "metadata": {
  "kernelspec": {
   "display_name": ".venv",
   "language": "python",
   "name": "python3"
  },
  "language_info": {
   "codemirror_mode": {
    "name": "ipython",
    "version": 3
   },
   "file_extension": ".py",
   "mimetype": "text/x-python",
   "name": "python",
   "nbconvert_exporter": "python",
   "pygments_lexer": "ipython3",
   "version": "3.13.1"
  }
 },
 "nbformat": 4,
 "nbformat_minor": 2
}
