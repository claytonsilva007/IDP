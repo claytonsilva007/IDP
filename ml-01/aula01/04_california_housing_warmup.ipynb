{
 "cells": [
  {
   "cell_type": "markdown",
   "metadata": {},
   "source": [
    "### **<span style=\"color:green\">IMPORTS E CONFIGURAÇÕES</span>**"
   ]
  },
  {
   "cell_type": "code",
   "execution_count": 2,
   "metadata": {},
   "outputs": [],
   "source": [
    "import pandas as pd\n",
    "import numpy as np\n",
    "#!pip install ipywidgets"
   ]
  },
  {
   "cell_type": "code",
   "execution_count": 3,
   "metadata": {},
   "outputs": [],
   "source": [
    "# prompt: Crie para mim um método que recebe uma lista de textos e exiba um conjunto de radio buttons\n",
    "\n",
    "import ipywidgets as widgets\n",
    "from IPython.display import display\n",
    "\n",
    "def exibir_alternativas(textos):\n",
    "  \"\"\"\n",
    "  Cria um conjunto de radio buttons a partir de uma lista de textos.\n",
    "\n",
    "  Args:\n",
    "    textos: Uma lista de strings, onde cada string representa um texto\n",
    "            para um radio button.\n",
    "  \"\"\"\n",
    "  radio_buttons = widgets.RadioButtons(\n",
    "      options=textos,\n",
    "      description='',\n",
    "      disabled=False\n",
    "  )\n",
    "  display(radio_buttons)"
   ]
  },
  {
   "cell_type": "markdown",
   "metadata": {},
   "source": [
    "### **<span style=\"color:green\">VISÃO GERAL DA BASE DE DADOS: California Housing</span>**\n",
    "\n",
    "Esta base de dados contém informações sobre as habitações na Califórnia, coletadas a partir do censo de 1990. Ela é usada para analisar diversos aspectos do mercado imobiliário e para fazer previsões sobre preços de casas. Aqui estão algumas das variáveis incluídas:\n",
    "\n",
    "- **MedInc**: Renda mediana dos habitantes de uma região (em dezenas de milhares de dólares).\n",
    "- **HouseAge**: Idade mediana das casas em uma região.\n",
    "- **AveRooms**: Número médio de cômodos por casa.\n",
    "- **AveBedrms**: Número médio de quartos por casa.\n",
    "- **Population**: População de uma região.\n",
    "- **AveOccup**: Número médio de habitantes por unidade habitacional.\n",
    "- **Latitude**: Latitude da região.\n",
    "- **Longitude**: Longitude da região.\n",
    "\n",
    "A meta é entender como diferentes características das casas e das regiões podem influenciar o mercado imobiliário na Califórnia. Essa base de dados pode ser usada para diversas análises, como identificar padrões, visualizar tendências e realizar previsões sobre preços de casas.\n",
    "\n",
    "---"
   ]
  },
  {
   "cell_type": "markdown",
   "metadata": {},
   "source": [
    "### **<span style=\"color:green\">VISÃO GERAL DOS DADOS</span>**"
   ]
  },
  {
   "cell_type": "code",
   "execution_count": 8,
   "metadata": {},
   "outputs": [],
   "source": [
    "CAMINHO_BASE_TREINAMENTO = 'C:/Users/clayt/Projetos/IDP/ml-01/dados/california_housing/train.csv'\n",
    "CAMINHO_BASE_TESTE = 'C:/Users/clayt/Projetos/IDP/ml-01/dados/california_housing/test.csv'"
   ]
  },
  {
   "cell_type": "markdown",
   "metadata": {},
   "source": [
    "Função que recebe um path de um csv e retorna um dataframe"
   ]
  },
  {
   "cell_type": "code",
   "execution_count": 9,
   "metadata": {},
   "outputs": [],
   "source": [
    "def carregar_dados(path: str):\n",
    "  dados = pd.read_csv(path)\n",
    "  return dados"
   ]
  },
  {
   "cell_type": "markdown",
   "metadata": {},
   "source": [
    "Utilize a função `carregar_dados(path: str)` para obter um dataframe a partir da planilha train.csv (CAMINHO_BASE_TREINAMENTO)"
   ]
  },
  {
   "cell_type": "code",
   "execution_count": 10,
   "metadata": {},
   "outputs": [],
   "source": [
    "df = 'obtenha o dataframe'"
   ]
  },
  {
   "cell_type": "markdown",
   "metadata": {},
   "source": [
    "Visualize as 3 primeiras linhas do arquivo com a função `head()`"
   ]
  },
  {
   "cell_type": "code",
   "execution_count": null,
   "metadata": {},
   "outputs": [],
   "source": []
  },
  {
   "cell_type": "markdown",
   "metadata": {},
   "source": [
    "Visualize as 3 últimas linhas do arquivo com a função `tail()`"
   ]
  },
  {
   "cell_type": "code",
   "execution_count": null,
   "metadata": {},
   "outputs": [],
   "source": []
  },
  {
   "cell_type": "markdown",
   "metadata": {},
   "source": [
    "Utilize a função `info()` para obter informações importantes sobre o dataframe, como tipos das colunas, quantidade de valores nulos e quantidade de linhas. "
   ]
  },
  {
   "cell_type": "code",
   "execution_count": null,
   "metadata": {},
   "outputs": [],
   "source": []
  },
  {
   "cell_type": "markdown",
   "metadata": {},
   "source": [
    "Utilize função `describe()` para obter um resumo estatístico de um DataFrame ou de uma série de dados. Lembre-se, essa função é para ter uma visão geral dos dados e identificar rapidamente quaisquer anomalias ou padrões."
   ]
  },
  {
   "cell_type": "code",
   "execution_count": null,
   "metadata": {},
   "outputs": [],
   "source": []
  },
  {
   "cell_type": "markdown",
   "metadata": {},
   "source": [
    "Como iremos implementar um modelo de regressão, é fundamental que exista correlação entre variáveis independentes e dependente. Utilize a função `corr(method='spearman')` se desejar calcular a correlação de **spearman**, ou `corr()` para o método de **pearson** for mais apropriado."
   ]
  },
  {
   "cell_type": "code",
   "execution_count": null,
   "metadata": {},
   "outputs": [],
   "source": []
  },
  {
   "cell_type": "markdown",
   "metadata": {},
   "source": [
    "Para problemas de regressão, o gráfico de dispersão (scatter) deve ser o primeiro a ser utilizado em suas análises. Visualize como os dados estão dispersos, buscando pela existência de uma relação linear entre as variáveis <u>MedInc</u> e <u>MedHouseVal</u>. Você pode utililizar o Matplotlib, Seaborn ou o pandas. Para esse exemplo, utilize a função `plot(kind='scatter')` do próprio dataframe pandas. **IMPORTANTE**: A variável que desejamos prever deve estar no eixo y. "
   ]
  },
  {
   "cell_type": "code",
   "execution_count": null,
   "metadata": {},
   "outputs": [],
   "source": []
  },
  {
   "cell_type": "markdown",
   "metadata": {},
   "source": [
    "### **<span style=\"color:green\">PREVENDO O VALOR MÉDIO DO IMÓVEL</span>**"
   ]
  },
  {
   "cell_type": "markdown",
   "metadata": {},
   "source": [
    "Utilize o train_test_split do pacote sklearn.model_selection para dividir os dados em treinamento e teste. Em geral, utilizam-se (80-70)% para treino (30-20)% por cento para testes. Por ora, utilize apenas 10% para testes. "
   ]
  },
  {
   "cell_type": "code",
   "execution_count": 17,
   "metadata": {},
   "outputs": [],
   "source": [
    "from sklearn.model_selection import train_test_split\n",
    "\n",
    "treino, teste = 'obtenha as bases de treino e teste'"
   ]
  },
  {
   "cell_type": "markdown",
   "metadata": {},
   "source": [
    "Crie o X e y de treino e teste seguindo o modelo do que foi apresentado no notebook `01_felicidade_x_pib_ocde.ipynb`. Utilize apenas os atributos **MedInc e MedHouseVal**"
   ]
  },
  {
   "cell_type": "code",
   "execution_count": 18,
   "metadata": {},
   "outputs": [],
   "source": [
    "x_treino = 'Colunas de treino do X'\n",
    "y_treino = 'Colunas de treino do y'\n",
    "\n",
    "x_teste = 'Colunas de teste do X'\n",
    "y_teste = 'Colunas de teste do y'"
   ]
  },
  {
   "cell_type": "markdown",
   "metadata": {},
   "source": [
    "Treine o modelo LinearRegression"
   ]
  },
  {
   "cell_type": "code",
   "execution_count": null,
   "metadata": {},
   "outputs": [],
   "source": [
    "from sklearn.linear_model import LinearRegression\n",
    "\n",
    "linear_model = 'Instancie o modelo'\n",
    "linear_model = 'treine o modelo'"
   ]
  },
  {
   "cell_type": "markdown",
   "metadata": {},
   "source": [
    "Faça previsões do valor médio dos imóveis e compare os valores reais e os valores previstos. "
   ]
  },
  {
   "cell_type": "code",
   "execution_count": null,
   "metadata": {},
   "outputs": [],
   "source": [
    "previsoes = 'Faça as previsões'\n",
    "\n",
    "print(f'Valores Reais: {y_teste.to_list()[:5]}')\n",
    "print(f'Valores previstos: {previsoes[:5]}')"
   ]
  },
  {
   "cell_type": "markdown",
   "metadata": {},
   "source": [
    "### **<span style=\"color:green\">AVALIE O DESEMPENHO DO MODELO COM A RAIZ QUADRADA DO ERRO QUADRÁTICO MÉDIO (RMSE)</span>**"
   ]
  },
  {
   "cell_type": "markdown",
   "metadata": {},
   "source": [
    "Utilize o método `mean_squared_error` do pacote sklearn.metrics para calcular o **MSE**. Após isso, utilize o método `sqrt()` do numpy para obter a raiz quadrada do MSE. Isso fornecerá o **RMSE**."
   ]
  },
  {
   "cell_type": "code",
   "execution_count": null,
   "metadata": {},
   "outputs": [],
   "source": [
    "from sklearn.metrics import mean_squared_error\n",
    "\n",
    "mse = 'Calcule o mse'\n",
    "mse"
   ]
  },
  {
   "cell_type": "code",
   "execution_count": null,
   "metadata": {},
   "outputs": [],
   "source": [
    "rmse = 'calcule o rmse'\n",
    "rmse"
   ]
  },
  {
   "cell_type": "markdown",
   "metadata": {},
   "source": [
    "**Quando utilizar MSE OU RMSE?**\n",
    "- **MSE (Mean Squared Error):**\n",
    "  - **Quando usar:** Use o MSE quando você quiser penalizar os erros grandes de maneira mais severa, pois ele eleva os erros ao quadrado. É útil para cenários onde erros maiores são significativamente mais prejudiciais.\n",
    "\n",
    "- **RMSE (Root Mean Squared Error):**\n",
    "  - **Quando usar:** Use o RMSE quando você quiser uma métrica que seja na mesma unidade dos dados originais, o que facilita a interpretação dos resultados. É adequado para cenários onde você deseja entender o impacto dos erros no mesmo contexto dos valores reais."
   ]
  },
  {
   "cell_type": "markdown",
   "metadata": {},
   "source": [
    "Avalie o R2 Score."
   ]
  },
  {
   "cell_type": "code",
   "execution_count": null,
   "metadata": {},
   "outputs": [],
   "source": [
    "from sklearn.metrics import r2_score\n",
    "\n",
    "# avalie aqui o r2"
   ]
  },
  {
   "cell_type": "markdown",
   "metadata": {},
   "source": [
    "### **<span style=\"color:green\">FEATURE ENGINEERING - CRIE, TRANSFORME, NORMALIZE/PADRONIZE, COMBINE/SEPARE VARIÁVEIS</span>**"
   ]
  },
  {
   "cell_type": "markdown",
   "metadata": {},
   "source": [
    "Crie nos dataframes de treino e teste, aqueles que você dividiu com o train_test_split, um atributo chamado relacao_populacao_ocupacao. Ele será a divisão da população(**Population**) pela ocupação média da casa (**AveOccup**). A suposição é a seguinte: A relação entre pessoas e quartos influencia no valor de venda. "
   ]
  },
  {
   "cell_type": "code",
   "execution_count": 24,
   "metadata": {},
   "outputs": [],
   "source": [
    "treino['relacao_populacao_ocupacao'] = ''\n",
    "teste['relacao_populacao_ocupacao'] = ''"
   ]
  },
  {
   "cell_type": "markdown",
   "metadata": {},
   "source": [
    "Implemente uma regressão múltipla utilizando as colunas **quartos_por_comodo** e **MedInc** no X da regressão. O valor de y permanece sendo **MedHouseVal**."
   ]
  },
  {
   "cell_type": "code",
   "execution_count": 25,
   "metadata": {},
   "outputs": [],
   "source": [
    "linear_model = LinearRegression()\n",
    "linear_model.fit()\n",
    "\n",
    "ypred = linear_model.predict()"
   ]
  },
  {
   "cell_type": "markdown",
   "metadata": {},
   "source": [
    "Avalie se houve melhora ou piora no desempenho do MSE e RMSE."
   ]
  },
  {
   "cell_type": "code",
   "execution_count": null,
   "metadata": {},
   "outputs": [],
   "source": [
    "mse = mean_squared_error(y_pred=ypred, y_true=teste['MedHouseVal'])\n",
    "mse"
   ]
  },
  {
   "cell_type": "code",
   "execution_count": null,
   "metadata": {},
   "outputs": [],
   "source": [
    "rmse = np.sqrt(mse)\n",
    "rmse"
   ]
  },
  {
   "cell_type": "markdown",
   "metadata": {},
   "source": [
    "Avalie o comportamento do R-Quadrado para obter indicativo de aumento ou redução da explicabilidade da variação dos dados após a inclusão do novo atributo."
   ]
  },
  {
   "cell_type": "code",
   "execution_count": null,
   "metadata": {},
   "outputs": [],
   "source": [
    "from sklearn.metrics import r2_score\n",
    "\n",
    "r2_score()"
   ]
  },
  {
   "cell_type": "markdown",
   "metadata": {},
   "source": [
    "### **<span style=\"color:green\">PESQUISE OUTROS MODELOS LINERARES, INCLUA NOVOS ATRIBUTOS, FAÇA PREVISÕES E COMPARE A PERFORMANCE COM O LINEAR REGRESSION</span>**"
   ]
  },
  {
   "cell_type": "markdown",
   "metadata": {},
   "source": [
    "**Teste ARDRegression, Ridge, ElasticNet e BayesianRidge**."
   ]
  },
  {
   "cell_type": "code",
   "execution_count": 77,
   "metadata": {},
   "outputs": [],
   "source": [
    "from sklearn.linear_model import ARDRegression\n",
    "\n",
    "linear_model = ARDRegression()\n",
    "linear_model.fit()\n",
    "ypred = linear_model.predict()"
   ]
  },
  {
   "cell_type": "code",
   "execution_count": null,
   "metadata": {},
   "outputs": [],
   "source": [
    "mse = mean_squared_error()"
   ]
  },
  {
   "cell_type": "code",
   "execution_count": null,
   "metadata": {},
   "outputs": [],
   "source": [
    "np.sqrt(mse)"
   ]
  },
  {
   "cell_type": "code",
   "execution_count": null,
   "metadata": {},
   "outputs": [],
   "source": [
    "r2_score()"
   ]
  }
 ],
 "metadata": {
  "kernelspec": {
   "display_name": ".venv",
   "language": "python",
   "name": "python3"
  },
  "language_info": {
   "codemirror_mode": {
    "name": "ipython",
    "version": 3
   },
   "file_extension": ".py",
   "mimetype": "text/x-python",
   "name": "python",
   "nbconvert_exporter": "python",
   "pygments_lexer": "ipython3",
   "version": "3.13.1"
  }
 },
 "nbformat": 4,
 "nbformat_minor": 2
}
